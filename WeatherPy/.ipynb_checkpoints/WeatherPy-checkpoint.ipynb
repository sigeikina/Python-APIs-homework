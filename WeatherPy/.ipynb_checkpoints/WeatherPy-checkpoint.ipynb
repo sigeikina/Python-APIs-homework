{
 "cells": [
  {
   "cell_type": "markdown",
   "metadata": {},
   "source": [
    "# WeatherPy\n",
    "----\n",
    "\n",
    "#### Note\n",
    "* Instructions have been included for each segment. You do not have to follow them exactly, but they are included to help you think through the steps."
   ]
  },
  {
   "cell_type": "code",
   "execution_count": 1,
   "metadata": {
    "scrolled": true
   },
   "outputs": [],
   "source": [
    "#Dependencies and Setup\n",
    "import matplotlib.pyplot as plt\n",
    "import pandas as pd\n",
    "import numpy as np\n",
    "import requests\n",
    "import time\n",
    "from scipy.stats import linregress\n",
    "# Import API key\n",
    "from api_keys import weather_api_key\n",
    "# Incorporated citipy to determine city based on latitude and longitude\n",
    "from citipy import citipy\n",
    "#pip install citipy\n",
    "# Output File (CSV)\n",
    "output_data_file = \"output_data/cities.csv\"\n",
    "# Range of latitudes and longitudes\n",
    "#lat_range = (-90, 90)\n",
    "#lng_range = (-180, 180)"
   ]
  },
  {
   "cell_type": "code",
   "execution_count": null,
   "metadata": {},
   "outputs": [],
   "source": []
  },
  {
   "cell_type": "markdown",
   "metadata": {},
   "source": [
    "## Generate Cities List"
   ]
  },
  {
   "cell_type": "code",
   "execution_count": 2,
   "metadata": {},
   "outputs": [
    {
     "data": {
      "text/plain": [
       "619"
      ]
     },
     "execution_count": 2,
     "metadata": {},
     "output_type": "execute_result"
    }
   ],
   "source": [
    "# List for holding lat_lngs and cities\n",
    "lat_range = (-90, 90)\n",
    "lng_range = (-180, 180)\n",
    "cities = []\n",
    "\n",
    "\n",
    "# Create a set of random lat and lng combinations\n",
    "lats = np.random.uniform(low=-90.000, high=90.000, size=1500)\n",
    "lngs = np.random.uniform(low=-180.000, high=180.000, size=1500)\n",
    "\n",
    "#to get a combined set\n",
    "lat_lngs = zip(lats, lngs)\n",
    "\n",
    "# Identify nearest city for each lat, lng combination\n",
    "for lat_lng in lat_lngs:\n",
    "    city = citipy.nearest_city(lat_lng[0], lat_lng[1]).city_name\n",
    "    if city not in cities:\n",
    "        cities.append(city)\n",
    "    \n",
    "# Print the city count to confirm sufficient count\n",
    "len(cities)\n",
    "#print(cities)\n",
    "    "
   ]
  },
  {
   "cell_type": "markdown",
   "metadata": {},
   "source": [
    "### Perform API Calls\n",
    "* Perform a weather check on each city using a series of successive API calls.\n",
    "* Include a print log of each city as it'sbeing processed (with the city number and city name).\n"
   ]
  },
  {
   "cell_type": "code",
   "execution_count": 3,
   "metadata": {
    "scrolled": true
   },
   "outputs": [
    {
     "name": "stdout",
     "output_type": "stream",
     "text": [
      "{'coord': {'lon': 115.8333, 'lat': -31.9333}, 'weather': [{'id': 803, 'main': 'Clouds', 'description': 'broken clouds', 'icon': '04d'}], 'base': 'stations', 'main': {'temp': 69.03, 'feels_like': 67.78, 'temp_min': 66.33, 'temp_max': 71.02, 'pressure': 1015, 'humidity': 46}, 'visibility': 10000, 'wind': {'speed': 5.75, 'deg': 190}, 'clouds': {'all': 75}, 'dt': 1636170072, 'sys': {'type': 2, 'id': 63154, 'country': 'AU', 'sunrise': 1636146907, 'sunset': 1636195527}, 'timezone': 28800, 'id': 2063523, 'name': 'Perth', 'cod': 200}\n"
     ]
    }
   ],
   "source": [
    "#url=api.openweathermap.org/data/2.5/weather?q={city name}&appid={API key}\n",
    "#url={\"cod\":401, \"message\": \"Invalid API key. Please see http://openweathermap.org/faq#error401 for more info.\"}\n",
    "url = \"http://api.openweathermap.org/data/2.5/weather?units=Imperial&APPID=\" + weather_api_key + \"&q=\"+\"perth\"\n",
    "cityweather=requests.get(url).json()\n",
    "print(cityweather)\n",
    "\n"
   ]
  },
  {
   "cell_type": "code",
   "execution_count": 4,
   "metadata": {},
   "outputs": [],
   "source": [
    "#Perform a weather check on each city using a series of successive API calls.\n",
    "\n",
    "# Import API key\n",
    "from api_keys import weather_api_key\n",
    "\n",
    "# Create settings dictionary with information we're interested in\n",
    "settings = {\"units\": \"imperial\", \"appid\": weather_api_key}\n",
    "\n",
    "# Initialize data frame to store data from API calls\n",
    "WeatherPy_df =pd.DataFrame(columns = [\"City\",\"Cloudiness\", \"Country\",\n",
    "                                    \"Date\", \"Max Temp\", \"Wind Speed\", \n",
    "                                    \"Lat\",\"Lng\", \"Humidity\"])"
   ]
  },
  {
   "cell_type": "code",
   "execution_count": 5,
   "metadata": {},
   "outputs": [
    {
     "name": "stdout",
     "output_type": "stream",
     "text": [
      "Beginning Data Retrieval \n",
      " ........................\n",
      "Processing Record 1 of Set 0 | ushuaia\n",
      "Processing Record 2 of Set 0 | bengkulu\n",
      "Processing Record 3 of Set 0 | manacapuru\n",
      "Processing Record 4 of Set 0 | hermanus\n",
      "Processing Record 5 of Set 0 | mys shmidta\n",
      "'coord'\n",
      "Processing Record 6 of Set 0 | ribeira grande\n",
      "Processing Record 7 of Set 0 | punta arenas\n",
      "Processing Record 8 of Set 0 | nikolskoye\n",
      "Processing Record 9 of Set 0 | rocha\n",
      "Processing Record 10 of Set 0 | airai\n",
      "Processing Record 11 of Set 0 | gornopravdinsk\n",
      "Processing Record 12 of Set 0 | hanzhong\n",
      "Processing Record 13 of Set 0 | vaini\n",
      "Processing Record 14 of Set 0 | rikitea\n",
      "Processing Record 15 of Set 0 | lakes entrance\n",
      "Processing Record 16 of Set 0 | taolanaro\n",
      "'coord'\n",
      "Processing Record 17 of Set 0 | albany\n",
      "Processing Record 18 of Set 0 | sabha\n",
      "Processing Record 19 of Set 0 | diamantino\n",
      "Processing Record 20 of Set 0 | georgetown\n",
      "Processing Record 21 of Set 0 | kasama\n",
      "Processing Record 22 of Set 0 | sonoita\n",
      "Processing Record 23 of Set 0 | isangel\n",
      "Processing Record 24 of Set 0 | bronnoysund\n",
      "Processing Record 25 of Set 0 | baykit\n",
      "Processing Record 26 of Set 0 | nguruka\n",
      "Processing Record 27 of Set 0 | salinopolis\n",
      "Processing Record 28 of Set 0 | busselton\n",
      "Processing Record 29 of Set 0 | saskylakh\n",
      "Processing Record 30 of Set 0 | karratha\n",
      "Processing Record 31 of Set 0 | new norfolk\n",
      "Processing Record 32 of Set 0 | dikson\n",
      "Processing Record 33 of Set 0 | sept-iles\n",
      "Processing Record 34 of Set 0 | northam\n",
      "Processing Record 35 of Set 0 | kapaa\n",
      "Processing Record 36 of Set 0 | puerto ayora\n",
      "Processing Record 37 of Set 0 | tiksi\n",
      "Processing Record 38 of Set 0 | chimoio\n",
      "Processing Record 39 of Set 0 | victoria\n",
      "Processing Record 40 of Set 0 | kristiansund\n",
      "Processing Record 41 of Set 0 | lagoa\n",
      "Processing Record 42 of Set 0 | kodiak\n",
      "Processing Record 43 of Set 0 | sao filipe\n",
      "Processing Record 44 of Set 0 | bathsheba\n",
      "Processing Record 45 of Set 0 | mahebourg\n",
      "Processing Record 46 of Set 0 | batemans bay\n",
      "Processing Record 47 of Set 0 | port elizabeth\n",
      "Processing Record 48 of Set 0 | bambous virieux\n",
      "Processing Record 49 of Set 0 | buala\n",
      "Processing Record 50 of Set 0 | touros\n",
      "Processing Record 1 of Set 1 | magaria\n",
      "Processing Record 2 of Set 1 | yellowknife\n",
      "Processing Record 3 of Set 1 | san pedro\n",
      "Processing Record 4 of Set 1 | mataura\n",
      "Processing Record 5 of Set 1 | deniliquin\n",
      "Processing Record 6 of Set 1 | beringovskiy\n",
      "Processing Record 7 of Set 1 | umzimvubu\n",
      "'coord'\n",
      "Processing Record 8 of Set 1 | qaqortoq\n",
      "Processing Record 9 of Set 1 | upernavik\n",
      "Processing Record 10 of Set 1 | alta floresta\n",
      "Processing Record 11 of Set 1 | amga\n",
      "Processing Record 12 of Set 1 | maragogi\n",
      "Processing Record 13 of Set 1 | klenovyy\n",
      "Processing Record 14 of Set 1 | bluff\n",
      "Processing Record 15 of Set 1 | staraya kulatka\n",
      "Processing Record 16 of Set 1 | atuona\n",
      "Processing Record 17 of Set 1 | kampot\n",
      "Processing Record 18 of Set 1 | saint-philippe\n",
      "Processing Record 19 of Set 1 | saint george\n",
      "Processing Record 20 of Set 1 | arraial do cabo\n",
      "Processing Record 21 of Set 1 | yar-sale\n",
      "Processing Record 22 of Set 1 | provideniya\n",
      "Processing Record 23 of Set 1 | loa janan\n",
      "Processing Record 24 of Set 1 | barentsburg\n",
      "'coord'\n",
      "Processing Record 25 of Set 1 | kostino\n",
      "Processing Record 26 of Set 1 | isabela\n",
      "Processing Record 27 of Set 1 | port alfred\n",
      "Processing Record 28 of Set 1 | castro\n",
      "Processing Record 29 of Set 1 | bandarbeyla\n",
      "Processing Record 30 of Set 1 | lebu\n",
      "Processing Record 31 of Set 1 | petropavlovsk-kamchatskiy\n",
      "Processing Record 32 of Set 1 | ayan\n",
      "Processing Record 33 of Set 1 | butaritari\n",
      "Processing Record 34 of Set 1 | attawapiskat\n",
      "'coord'\n",
      "Processing Record 35 of Set 1 | port lincoln\n",
      "Processing Record 36 of Set 1 | hobart\n",
      "Processing Record 37 of Set 1 | mont-dore\n",
      "Processing Record 38 of Set 1 | la ronge\n",
      "Processing Record 39 of Set 1 | yuzhno-kurilsk\n",
      "Processing Record 40 of Set 1 | inhambane\n",
      "Processing Record 41 of Set 1 | belushya guba\n",
      "'coord'\n",
      "Processing Record 42 of Set 1 | ranong\n",
      "Processing Record 43 of Set 1 | tayoltita\n",
      "Processing Record 44 of Set 1 | laurel\n",
      "Processing Record 45 of Set 1 | boyolangu\n",
      "Processing Record 46 of Set 1 | hamilton\n",
      "Processing Record 47 of Set 1 | juneau\n",
      "Processing Record 48 of Set 1 | nouadhibou\n",
      "Processing Record 49 of Set 1 | lakhnadon\n",
      "Processing Record 50 of Set 1 | chokurdakh\n",
      "Processing Record 1 of Set 2 | finnsnes\n",
      "Processing Record 2 of Set 2 | zhigansk\n",
      "Processing Record 3 of Set 2 | ponta do sol\n",
      "Processing Record 4 of Set 2 | tuktoyaktuk\n",
      "Processing Record 5 of Set 2 | adrar\n",
      "Processing Record 6 of Set 2 | qaanaaq\n",
      "Processing Record 7 of Set 2 | cape town\n",
      "Processing Record 8 of Set 2 | kavieng\n",
      "Processing Record 9 of Set 2 | bambanglipuro\n",
      "Processing Record 10 of Set 2 | bur gabo\n",
      "'coord'\n",
      "Processing Record 11 of Set 2 | grand river south east\n",
      "'coord'\n",
      "Processing Record 12 of Set 2 | tukrah\n",
      "Processing Record 13 of Set 2 | bubaque\n",
      "Processing Record 14 of Set 2 | khatanga\n",
      "Processing Record 15 of Set 2 | sidi ali\n",
      "Processing Record 16 of Set 2 | tromso\n",
      "Processing Record 17 of Set 2 | tiarei\n",
      "Processing Record 18 of Set 2 | hilo\n",
      "Processing Record 19 of Set 2 | alofi\n",
      "Processing Record 20 of Set 2 | sorland\n",
      "Processing Record 21 of Set 2 | komsomolskiy\n",
      "Processing Record 22 of Set 2 | hoquiam\n",
      "Processing Record 23 of Set 2 | mbanza-ngungu\n",
      "Processing Record 24 of Set 2 | aflu\n",
      "'coord'\n",
      "Processing Record 25 of Set 2 | vao\n",
      "Processing Record 26 of Set 2 | turinskaya sloboda\n",
      "Processing Record 27 of Set 2 | tual\n",
      "Processing Record 28 of Set 2 | trinidad\n",
      "Processing Record 29 of Set 2 | guerrero negro\n",
      "Processing Record 30 of Set 2 | fortuna\n",
      "Processing Record 31 of Set 2 | geraldton\n",
      "Processing Record 32 of Set 2 | annau\n",
      "Processing Record 33 of Set 2 | shenjiamen\n",
      "Processing Record 34 of Set 2 | lata\n",
      "Processing Record 35 of Set 2 | ilulissat\n",
      "Processing Record 36 of Set 2 | batsfjord\n",
      "Processing Record 37 of Set 2 | kruisfontein\n",
      "Processing Record 38 of Set 2 | varkaus\n",
      "Processing Record 39 of Set 2 | codrington\n",
      "Processing Record 40 of Set 2 | mamakan\n",
      "Processing Record 41 of Set 2 | cabo san lucas\n",
      "Processing Record 42 of Set 2 | nanganga\n",
      "Processing Record 43 of Set 2 | cabinda\n",
      "Processing Record 44 of Set 2 | marcona\n",
      "'coord'\n",
      "Processing Record 45 of Set 2 | kaitangata\n",
      "Processing Record 46 of Set 2 | along\n",
      "Processing Record 47 of Set 2 | aligudarz\n",
      "Processing Record 48 of Set 2 | mildura\n",
      "Processing Record 49 of Set 2 | honiara\n",
      "Processing Record 50 of Set 2 | nizhneyansk\n",
      "'coord'\n",
      "Processing Record 1 of Set 3 | barrow\n",
      "Processing Record 2 of Set 3 | norman wells\n",
      "Processing Record 3 of Set 3 | avarua\n",
      "Processing Record 4 of Set 3 | vieques\n",
      "Processing Record 5 of Set 3 | carutapera\n",
      "Processing Record 6 of Set 3 | high level\n",
      "Processing Record 7 of Set 3 | itoman\n",
      "Processing Record 8 of Set 3 | santa cruz de la palma\n",
      "Processing Record 9 of Set 3 | conil\n",
      "Processing Record 10 of Set 3 | illoqqortoormiut\n",
      "'coord'\n",
      "Processing Record 11 of Set 3 | san cristobal\n",
      "Processing Record 12 of Set 3 | baherden\n",
      "Processing Record 13 of Set 3 | vaitupu\n",
      "'coord'\n",
      "Processing Record 14 of Set 3 | paamiut\n",
      "Processing Record 15 of Set 3 | cortez\n",
      "Processing Record 16 of Set 3 | nanortalik\n",
      "Processing Record 17 of Set 3 | bo phloi\n",
      "Processing Record 18 of Set 3 | massakory\n",
      "Processing Record 19 of Set 3 | bria\n",
      "Processing Record 20 of Set 3 | lompoc\n",
      "Processing Record 21 of Set 3 | bredasdorp\n",
      "Processing Record 22 of Set 3 | thompson\n",
      "Processing Record 23 of Set 3 | chuy\n",
      "Processing Record 24 of Set 3 | kibala\n",
      "Processing Record 25 of Set 3 | camana\n",
      "Processing Record 26 of Set 3 | san quintin\n",
      "Processing Record 27 of Set 3 | camacha\n",
      "Processing Record 28 of Set 3 | askarovo\n",
      "Processing Record 29 of Set 3 | khorinsk\n",
      "Processing Record 30 of Set 3 | dunedin\n",
      "Processing Record 31 of Set 3 | ahipara\n",
      "Processing Record 32 of Set 3 | sovetskaya gavan\n",
      "Processing Record 33 of Set 3 | bethel\n",
      "Processing Record 34 of Set 3 | mar del plata\n",
      "Processing Record 35 of Set 3 | khorramshahr\n",
      "Processing Record 36 of Set 3 | lavrentiya\n",
      "Processing Record 37 of Set 3 | vila franca do campo\n",
      "Processing Record 38 of Set 3 | krasnoselkup\n",
      "Processing Record 39 of Set 3 | troitsko-pechorsk\n",
      "Processing Record 40 of Set 3 | te anau\n",
      "Processing Record 41 of Set 3 | jedrzejow\n",
      "Processing Record 42 of Set 3 | dongsheng\n",
      "Processing Record 43 of Set 3 | banda aceh\n",
      "Processing Record 44 of Set 3 | voznesenye\n"
     ]
    },
    {
     "name": "stdout",
     "output_type": "stream",
     "text": [
      "Processing Record 45 of Set 3 | najran\n",
      "Processing Record 46 of Set 3 | sorrento\n",
      "Processing Record 47 of Set 3 | eaglesfield\n",
      "Processing Record 48 of Set 3 | pandamatenga\n",
      "Processing Record 49 of Set 3 | cherskiy\n",
      "Processing Record 50 of Set 3 | domoni\n",
      "Processing Record 1 of Set 4 | tezu\n",
      "Processing Record 2 of Set 4 | umea\n",
      "Processing Record 3 of Set 4 | saint-pierre\n",
      "Processing Record 4 of Set 4 | novoilinsk\n",
      "Processing Record 5 of Set 4 | kangaatsiaq\n",
      "Processing Record 6 of Set 4 | nantucket\n",
      "Processing Record 7 of Set 4 | hithadhoo\n",
      "Processing Record 8 of Set 4 | ancud\n",
      "Processing Record 9 of Set 4 | tilichiki\n",
      "Processing Record 10 of Set 4 | saldanha\n",
      "Processing Record 11 of Set 4 | cidreira\n",
      "Processing Record 12 of Set 4 | constitucion\n",
      "Processing Record 13 of Set 4 | namatanai\n",
      "Processing Record 14 of Set 4 | ningan\n",
      "'coord'\n",
      "Processing Record 15 of Set 4 | cayenne\n",
      "Processing Record 16 of Set 4 | veraval\n",
      "Processing Record 17 of Set 4 | mundo nuevo\n",
      "Processing Record 18 of Set 4 | boyuibe\n",
      "Processing Record 19 of Set 4 | riviera beach\n",
      "Processing Record 20 of Set 4 | siuna\n",
      "Processing Record 21 of Set 4 | bireun\n",
      "Processing Record 22 of Set 4 | tanout\n",
      "Processing Record 23 of Set 4 | borogontsy\n",
      "Processing Record 24 of Set 4 | praya\n",
      "Processing Record 25 of Set 4 | tasiilaq\n",
      "Processing Record 26 of Set 4 | yulara\n",
      "Processing Record 27 of Set 4 | padang\n",
      "Processing Record 28 of Set 4 | kongolo\n",
      "Processing Record 29 of Set 4 | utiroa\n",
      "'coord'\n",
      "Processing Record 30 of Set 4 | ningxiang\n",
      "Processing Record 31 of Set 4 | magadan\n",
      "Processing Record 32 of Set 4 | emerald\n",
      "Processing Record 33 of Set 4 | baghdad\n",
      "Processing Record 34 of Set 4 | turayf\n",
      "Processing Record 35 of Set 4 | temir\n",
      "Processing Record 36 of Set 4 | scarborough\n",
      "Processing Record 37 of Set 4 | liverpool\n",
      "Processing Record 38 of Set 4 | pauini\n",
      "Processing Record 39 of Set 4 | bilibino\n",
      "Processing Record 40 of Set 4 | ulaanbaatar\n",
      "Processing Record 41 of Set 4 | esperance\n",
      "Processing Record 42 of Set 4 | conceicao da barra\n",
      "Processing Record 43 of Set 4 | kerouane\n",
      "Processing Record 44 of Set 4 | lubango\n",
      "Processing Record 45 of Set 4 | shunyi\n",
      "Processing Record 46 of Set 4 | iqaluit\n",
      "Processing Record 47 of Set 4 | formosa\n",
      "Processing Record 48 of Set 4 | flagstaff\n",
      "Processing Record 49 of Set 4 | coihaique\n",
      "Processing Record 50 of Set 4 | pithiviers\n",
      "Processing Record 1 of Set 5 | zhangye\n",
      "Processing Record 2 of Set 5 | kuche\n",
      "'coord'\n",
      "Processing Record 3 of Set 5 | krasnyy yar\n",
      "Processing Record 4 of Set 5 | horodok\n",
      "Processing Record 5 of Set 5 | la crosse\n",
      "Processing Record 6 of Set 5 | mentok\n",
      "'coord'\n",
      "Processing Record 7 of Set 5 | umkomaas\n",
      "Processing Record 8 of Set 5 | soroca\n",
      "Processing Record 9 of Set 5 | port hedland\n",
      "Processing Record 10 of Set 5 | payo\n",
      "Processing Record 11 of Set 5 | oussouye\n",
      "Processing Record 12 of Set 5 | tsihombe\n",
      "'coord'\n",
      "Processing Record 13 of Set 5 | hami\n",
      "Processing Record 14 of Set 5 | george town\n",
      "Processing Record 15 of Set 5 | caravelas\n",
      "Processing Record 16 of Set 5 | port shepstone\n",
      "Processing Record 17 of Set 5 | saint-joseph\n",
      "Processing Record 18 of Set 5 | rio verde de mato grosso\n",
      "Processing Record 19 of Set 5 | casper\n",
      "Processing Record 20 of Set 5 | kharhial\n",
      "Processing Record 21 of Set 5 | novorzhev\n",
      "Processing Record 22 of Set 5 | wodonga\n",
      "Processing Record 23 of Set 5 | drumheller\n",
      "Processing Record 24 of Set 5 | coos bay\n",
      "Processing Record 25 of Set 5 | sinnamary\n",
      "Processing Record 26 of Set 5 | gobabis\n",
      "Processing Record 27 of Set 5 | rimbey\n",
      "Processing Record 28 of Set 5 | wau\n",
      "Processing Record 29 of Set 5 | kidal\n",
      "Processing Record 30 of Set 5 | moctezuma\n",
      "Processing Record 31 of Set 5 | hasaki\n",
      "Processing Record 32 of Set 5 | abu dhabi\n",
      "Processing Record 33 of Set 5 | isla mujeres\n",
      "Processing Record 34 of Set 5 | qarqin\n",
      "Processing Record 35 of Set 5 | le havre\n",
      "Processing Record 36 of Set 5 | lebanon\n",
      "Processing Record 37 of Set 5 | srednekolymsk\n",
      "Processing Record 38 of Set 5 | biak\n",
      "Processing Record 39 of Set 5 | ambilobe\n",
      "Processing Record 40 of Set 5 | escuinapa\n",
      "Processing Record 41 of Set 5 | saint-francois\n",
      "Processing Record 42 of Set 5 | morondava\n",
      "Processing Record 43 of Set 5 | derzhavinsk\n",
      "Processing Record 44 of Set 5 | jhang\n",
      "Processing Record 45 of Set 5 | mrirt\n",
      "'coord'\n",
      "Processing Record 46 of Set 5 | mount gambier\n",
      "Processing Record 47 of Set 5 | luderitz\n",
      "Processing Record 48 of Set 5 | llata\n",
      "Processing Record 49 of Set 5 | concordia\n",
      "Processing Record 50 of Set 5 | chengde\n",
      "Processing Record 1 of Set 6 | pisco\n",
      "Processing Record 2 of Set 6 | fenoarivo\n",
      "Processing Record 3 of Set 6 | soligalich\n",
      "Processing Record 4 of Set 6 | hovd\n",
      "Processing Record 5 of Set 6 | yokadouma\n",
      "Processing Record 6 of Set 6 | parana\n",
      "Processing Record 7 of Set 6 | kuah\n",
      "Processing Record 8 of Set 6 | east london\n",
      "Processing Record 9 of Set 6 | cap malheureux\n",
      "Processing Record 10 of Set 6 | verkhoyansk\n",
      "Processing Record 11 of Set 6 | troyes\n",
      "Processing Record 12 of Set 6 | pevek\n",
      "Processing Record 13 of Set 6 | dickinson\n",
      "Processing Record 14 of Set 6 | banmo\n",
      "'coord'\n",
      "Processing Record 15 of Set 6 | longyearbyen\n",
      "Processing Record 16 of Set 6 | souillac\n",
      "Processing Record 17 of Set 6 | sao paulo de olivenca\n",
      "Processing Record 18 of Set 6 | yumen\n",
      "Processing Record 19 of Set 6 | le pradet\n",
      "Processing Record 20 of Set 6 | lima\n",
      "Processing Record 21 of Set 6 | byumba\n",
      "Processing Record 22 of Set 6 | boffa\n",
      "Processing Record 23 of Set 6 | glen allen\n",
      "Processing Record 24 of Set 6 | ternate\n",
      "Processing Record 25 of Set 6 | trat\n",
      "Processing Record 26 of Set 6 | muros\n",
      "Processing Record 27 of Set 6 | faanui\n",
      "Processing Record 28 of Set 6 | taltal\n",
      "Processing Record 29 of Set 6 | fairbanks\n",
      "Processing Record 30 of Set 6 | havoysund\n",
      "Processing Record 31 of Set 6 | aykhal\n",
      "Processing Record 32 of Set 6 | yanam\n",
      "Processing Record 33 of Set 6 | marienburg\n",
      "Processing Record 34 of Set 6 | sereflikochisar\n",
      "Processing Record 35 of Set 6 | maniitsoq\n",
      "Processing Record 36 of Set 6 | shaoyang\n",
      "Processing Record 37 of Set 6 | general roca\n",
      "Processing Record 38 of Set 6 | saleaula\n",
      "'coord'\n",
      "Processing Record 39 of Set 6 | goderich\n",
      "Processing Record 40 of Set 6 | somerset east\n",
      "Processing Record 41 of Set 6 | shakawe\n",
      "Processing Record 42 of Set 6 | haltern\n",
      "Processing Record 43 of Set 6 | anadyr\n",
      "Processing Record 44 of Set 6 | bilma\n",
      "Processing Record 45 of Set 6 | bargal\n",
      "'coord'\n",
      "Processing Record 46 of Set 6 | mahajanga\n",
      "Processing Record 47 of Set 6 | murovani kurylivtsi\n",
      "Processing Record 48 of Set 6 | kieta\n",
      "Processing Record 49 of Set 6 | semey\n",
      "Processing Record 50 of Set 6 | jamestown\n"
     ]
    },
    {
     "ename": "ValueError",
     "evalue": "sleep length must be non-negative",
     "output_type": "error",
     "traceback": [
      "\u001b[0;31m---------------------------------------------------------------------------\u001b[0m",
      "\u001b[0;31mValueError\u001b[0m                                Traceback (most recent call last)",
      "\u001b[0;32m/var/folders/3r/gn3mydl54sb3yhjwz03l827m0000gn/T/ipykernel_55179/3950074658.py\u001b[0m in \u001b[0;36m<module>\u001b[0;34m\u001b[0m\n\u001b[1;32m     52\u001b[0m         \u001b[0mcount\u001b[0m \u001b[0;34m=\u001b[0m \u001b[0;36m1\u001b[0m\u001b[0;34m\u001b[0m\u001b[0;34m\u001b[0m\u001b[0m\n\u001b[1;32m     53\u001b[0m         \u001b[0msets\u001b[0m \u001b[0;34m=\u001b[0m \u001b[0msets\u001b[0m\u001b[0;34m+\u001b[0m\u001b[0;36m1\u001b[0m\u001b[0;34m\u001b[0m\u001b[0;34m\u001b[0m\u001b[0m\n\u001b[0;32m---> 54\u001b[0;31m         \u001b[0mtime\u001b[0m\u001b[0;34m.\u001b[0m\u001b[0msleep\u001b[0m\u001b[0;34m(\u001b[0m\u001b[0;36m60\u001b[0m\u001b[0;34m-\u001b[0m\u001b[0;34m(\u001b[0m\u001b[0mt1\u001b[0m\u001b[0;34m-\u001b[0m\u001b[0mt0\u001b[0m\u001b[0;34m)\u001b[0m\u001b[0;34m)\u001b[0m\u001b[0;34m\u001b[0m\u001b[0;34m\u001b[0m\u001b[0m\n\u001b[0m\u001b[1;32m     55\u001b[0m         \u001b[0mt0\u001b[0m\u001b[0;34m=\u001b[0m\u001b[0mtime\u001b[0m\u001b[0;34m.\u001b[0m\u001b[0mtime\u001b[0m\u001b[0;34m(\u001b[0m\u001b[0;34m)\u001b[0m\u001b[0;34m\u001b[0m\u001b[0;34m\u001b[0m\u001b[0m\n\u001b[1;32m     56\u001b[0m \u001b[0;34m\u001b[0m\u001b[0m\n",
      "\u001b[0;31mValueError\u001b[0m: sleep length must be non-negative"
     ]
    }
   ],
   "source": [
    "#Include a print log of each city as it'sbeing processed (with the city number and city name).\n",
    "\n",
    "count = 1 # counter to count the number of calls to API\n",
    "err = 0 # error count to record how many cities the API responds back with no data.\n",
    "sets = 0 # counter to count the number of call sets\n",
    "index = 0 # index for the data frame WeatherPy data frame\n",
    "city_data = []\n",
    "#Get current time\n",
    "t0 =time.time()\n",
    "print(f'Beginning Data Retrieval \\n ........................')\n",
    "for city in cities:\n",
    "    try:\n",
    "        city1 = city.replace(\" \", \"%20\") # remove space in city name so the URL retrieved is not broken.\n",
    "        print(f'Processing Record {count} of Set {sets} | {city}' )\n",
    "        #print(f'{owm.BASE_URL}weather?q={city1}&units=imperial&APPID={api_key}')\n",
    "        url = \"http://api.openweathermap.org/data/2.5/weather?units=Imperial&APPID=\" + weather_api_key + \"&q=\"+city1\n",
    "        city_weather=requests.get(url).json()\n",
    "        city_lat = city_weather[\"coord\"][\"lat\"]\n",
    "        city_lng = city_weather[\"coord\"][\"lon\"]\n",
    "        city_max_temp = city_weather[\"main\"][\"temp_max\"]\n",
    "        city_humidity = city_weather[\"main\"][\"humidity\"]\n",
    "        city_clouds = city_weather[\"clouds\"][\"all\"]\n",
    "        city_wind = city_weather[\"wind\"][\"speed\"]\n",
    "        city_country = city_weather[\"sys\"][\"country\"]\n",
    "        city_date = city_weather[\"dt\"]\n",
    "        #city_stats = owm.get_current(city, **settings)\n",
    "        #WeatherPy_df.set_value(index, \"City\", city_stats[\"name\"])\n",
    "        #WeatherPy_df.set_value(index, \"Cloudiness\", city_stats(\"clouds.all\"))\n",
    "        #WeatherPy_df.set_value(index, \"Country\", city_stats(\"sys.country\"))\n",
    "        #WeatherPy_df.set_value(index, \"Date\", city_stats(\"dt\"))\n",
    "        #WeatherPy_df.set_value(index, \"Max Temp\", city_stats(\"main.temp_max\"))\n",
    "        #WeatherPy_df.set_value(index, \"Wind Speed\", city_stats(\"wind.speed\"))\n",
    "        #WeatherPy_df.set_value(index, \"Lat\", city_stats(\"coord.lat\"))\n",
    "        #WeatherPy_df.set_value(index, \"Lng\", city_stats(\"coord.lon\"))\n",
    "        #WeatherPy_df.set_value(index, \"Humidity\", city_stats(\"main.humidity\"))\n",
    "        city_data.append({\"City\": city, \n",
    "                          \"Lat\": city_lat, \n",
    "                          \"Lng\": city_lng, \n",
    "                          \"Max Temp\": city_max_temp,\n",
    "                          \"Humidity\": city_humidity,\n",
    "                          \"Cloudiness\": city_clouds,\n",
    "                          \"Wind Speed\": city_wind,\n",
    "                          \"Country\": city_country,\n",
    "                          \"Date\": city_date})\n",
    "        index = index +1 \n",
    "    except Exception as e:\n",
    "        print(e)\n",
    "        err= err+1\n",
    "    count = count+1\n",
    "    if count == 51: # loop to limit 50 API calls per minute. The OpenWeatherMap API limit is 60 calls/min\n",
    "        t1=time.time()\n",
    "        count = 1 \n",
    "        sets = sets+1\n",
    "        time.sleep(60-(t1-t0))\n",
    "        t0=time.time()\n",
    "\n",
    "print(\"end of stats loop\")\n",
    "print(f'Could not get data for {err} cities')\n"
   ]
  },
  {
   "cell_type": "code",
   "execution_count": 6,
   "metadata": {},
   "outputs": [
    {
     "name": "stdout",
     "output_type": "stream",
     "text": [
      "[{'City': 'ushuaia', 'Lat': -54.8, 'Lng': -68.3, 'Max Temp': 51.46, 'Humidity': 50, 'Cloudiness': 40, 'Wind Speed': 11.5, 'Country': 'AR', 'Date': 1636170358}, {'City': 'bengkulu', 'Lat': -3.8004, 'Lng': 102.2655, 'Max Temp': 79.27, 'Humidity': 80, 'Cloudiness': 100, 'Wind Speed': 7.78, 'Country': 'ID', 'Date': 1636170351}, {'City': 'manacapuru', 'Lat': -3.2997, 'Lng': -60.6206, 'Max Temp': 79.38, 'Humidity': 75, 'Cloudiness': 41, 'Wind Speed': 1.99, 'Country': 'BR', 'Date': 1636170622}, {'City': 'hermanus', 'Lat': -34.4187, 'Lng': 19.2345, 'Max Temp': 55.9, 'Humidity': 76, 'Cloudiness': 17, 'Wind Speed': 4.68, 'Country': 'ZA', 'Date': 1636170623}, {'City': 'ribeira grande', 'Lat': 38.5167, 'Lng': -28.7, 'Max Temp': 69.69, 'Humidity': 90, 'Cloudiness': 100, 'Wind Speed': 24.54, 'Country': 'PT', 'Date': 1636170625}, {'City': 'punta arenas', 'Lat': -53.15, 'Lng': -70.9167, 'Max Temp': 48.31, 'Humidity': 71, 'Cloudiness': 75, 'Wind Speed': 10.36, 'Country': 'CL', 'Date': 1636170445}, {'City': 'nikolskoye', 'Lat': 59.7035, 'Lng': 30.7861, 'Max Temp': 43.88, 'Humidity': 85, 'Cloudiness': 100, 'Wind Speed': 10.56, 'Country': 'RU', 'Date': 1636170627}, {'City': 'rocha', 'Lat': -34.4833, 'Lng': -54.3333, 'Max Temp': 58.05, 'Humidity': 77, 'Cloudiness': 100, 'Wind Speed': 14.76, 'Country': 'UY', 'Date': 1636170628}, {'City': 'airai', 'Lat': -8.9266, 'Lng': 125.4092, 'Max Temp': 80.1, 'Humidity': 45, 'Cloudiness': 72, 'Wind Speed': 3, 'Country': 'TL', 'Date': 1636170630}, {'City': 'gornopravdinsk', 'Lat': 60.05, 'Lng': 69.9, 'Max Temp': 33.62, 'Humidity': 98, 'Cloudiness': 100, 'Wind Speed': 8.55, 'Country': 'RU', 'Date': 1636170630}, {'City': 'hanzhong', 'Lat': 33.0728, 'Lng': 107.0303, 'Max Temp': 45.43, 'Humidity': 75, 'Cloudiness': 100, 'Wind Speed': 10.51, 'Country': 'CN', 'Date': 1636170335}, {'City': 'vaini', 'Lat': -21.2, 'Lng': -175.2, 'Max Temp': 82.56, 'Humidity': 89, 'Cloudiness': 40, 'Wind Speed': 9.22, 'Country': 'TO', 'Date': 1636170631}, {'City': 'rikitea', 'Lat': -23.1203, 'Lng': -134.9692, 'Max Temp': 75.09, 'Humidity': 81, 'Cloudiness': 55, 'Wind Speed': 11.56, 'Country': 'PF', 'Date': 1636170633}, {'City': 'lakes entrance', 'Lat': -37.8811, 'Lng': 147.981, 'Max Temp': 77.58, 'Humidity': 63, 'Cloudiness': 89, 'Wind Speed': 5.79, 'Country': 'AU', 'Date': 1636170634}, {'City': 'albany', 'Lat': 42.6001, 'Lng': -73.9662, 'Max Temp': 34.84, 'Humidity': 86, 'Cloudiness': 2, 'Wind Speed': 3.49, 'Country': 'US', 'Date': 1636170595}, {'City': 'sabha', 'Lat': 27.0377, 'Lng': 14.4283, 'Max Temp': 69.1, 'Humidity': 29, 'Cloudiness': 0, 'Wind Speed': 12.03, 'Country': 'LY', 'Date': 1636170636}, {'City': 'diamantino', 'Lat': -14.4086, 'Lng': -56.4461, 'Max Temp': 72.03, 'Humidity': 97, 'Cloudiness': 100, 'Wind Speed': 3.42, 'Country': 'BR', 'Date': 1636170637}, {'City': 'georgetown', 'Lat': 5.4112, 'Lng': 100.3354, 'Max Temp': 87.75, 'Humidity': 74, 'Cloudiness': 20, 'Wind Speed': 5.01, 'Country': 'MY', 'Date': 1636170639}, {'City': 'kasama', 'Lat': -10.2129, 'Lng': 31.1808, 'Max Temp': 66.13, 'Humidity': 44, 'Cloudiness': 45, 'Wind Speed': 3.78, 'Country': 'ZM', 'Date': 1636170549}, {'City': 'sonoita', 'Lat': 31.85, 'Lng': -112.8333, 'Max Temp': 74.53, 'Humidity': 27, 'Cloudiness': 61, 'Wind Speed': 2.95, 'Country': 'MX', 'Date': 1636170639}, {'City': 'isangel', 'Lat': -19.55, 'Lng': 169.2667, 'Max Temp': 80.71, 'Humidity': 74, 'Cloudiness': 75, 'Wind Speed': 6.91, 'Country': 'VU', 'Date': 1636170640}, {'City': 'bronnoysund', 'Lat': 65.4625, 'Lng': 12.1997, 'Max Temp': 37.67, 'Humidity': 93, 'Cloudiness': 75, 'Wind Speed': 4.61, 'Country': 'NO', 'Date': 1636170641}, {'City': 'baykit', 'Lat': 61.67, 'Lng': 96.37, 'Max Temp': 21.13, 'Humidity': 95, 'Cloudiness': 100, 'Wind Speed': 5.66, 'Country': 'RU', 'Date': 1636170642}, {'City': 'nguruka', 'Lat': -5.1092, 'Lng': 31.0419, 'Max Temp': 67.78, 'Humidity': 76, 'Cloudiness': 89, 'Wind Speed': 2.01, 'Country': 'TZ', 'Date': 1636170643}, {'City': 'salinopolis', 'Lat': -0.6136, 'Lng': -47.3561, 'Max Temp': 79.21, 'Humidity': 85, 'Cloudiness': 31, 'Wind Speed': 8.9, 'Country': 'BR', 'Date': 1636170645}, {'City': 'busselton', 'Lat': -33.65, 'Lng': 115.3333, 'Max Temp': 62.4, 'Humidity': 45, 'Cloudiness': 40, 'Wind Speed': 5.97, 'Country': 'AU', 'Date': 1636170646}, {'City': 'saskylakh', 'Lat': 71.9167, 'Lng': 114.0833, 'Max Temp': -3.17, 'Humidity': 91, 'Cloudiness': 91, 'Wind Speed': 17.27, 'Country': 'RU', 'Date': 1636170647}, {'City': 'karratha', 'Lat': -20.7377, 'Lng': 116.8463, 'Max Temp': 91.33, 'Humidity': 33, 'Cloudiness': 15, 'Wind Speed': 12.66, 'Country': 'AU', 'Date': 1636170648}, {'City': 'new norfolk', 'Lat': -42.7826, 'Lng': 147.0587, 'Max Temp': 74.7, 'Humidity': 89, 'Cloudiness': 100, 'Wind Speed': 6.31, 'Country': 'AU', 'Date': 1636170649}, {'City': 'dikson', 'Lat': 73.5069, 'Lng': 80.5464, 'Max Temp': 19.47, 'Humidity': 90, 'Cloudiness': 100, 'Wind Speed': 13.98, 'Country': 'RU', 'Date': 1636170422}, {'City': 'sept-iles', 'Lat': 50.2001, 'Lng': -66.3821, 'Max Temp': 36.05, 'Humidity': 69, 'Cloudiness': 90, 'Wind Speed': 3, 'Country': 'CA', 'Date': 1636170650}, {'City': 'northam', 'Lat': 51.0333, 'Lng': -4.2167, 'Max Temp': 53.38, 'Humidity': 84, 'Cloudiness': 99, 'Wind Speed': 12.73, 'Country': 'GB', 'Date': 1636170651}, {'City': 'kapaa', 'Lat': 22.0752, 'Lng': -159.319, 'Max Temp': 80.58, 'Humidity': 82, 'Cloudiness': 75, 'Wind Speed': 5.01, 'Country': 'US', 'Date': 1636170652}, {'City': 'puerto ayora', 'Lat': -0.7393, 'Lng': -90.3518, 'Max Temp': 69.4, 'Humidity': 75, 'Cloudiness': 100, 'Wind Speed': 9.31, 'Country': 'EC', 'Date': 1636170653}, {'City': 'tiksi', 'Lat': 71.6872, 'Lng': 128.8694, 'Max Temp': 4.91, 'Humidity': 81, 'Cloudiness': 100, 'Wind Speed': 18.95, 'Country': 'RU', 'Date': 1636170655}, {'City': 'chimoio', 'Lat': -19.1164, 'Lng': 33.4833, 'Max Temp': 67.95, 'Humidity': 100, 'Cloudiness': 75, 'Wind Speed': 1.34, 'Country': 'MZ', 'Date': 1636170582}, {'City': 'victoria', 'Lat': 22.2855, 'Lng': 114.1577, 'Max Temp': 85.96, 'Humidity': 77, 'Cloudiness': 2, 'Wind Speed': 1.01, 'Country': 'HK', 'Date': 1636170528}, {'City': 'kristiansund', 'Lat': 63.1115, 'Lng': 7.732, 'Max Temp': 41.65, 'Humidity': 70, 'Cloudiness': 90, 'Wind Speed': 21.85, 'Country': 'NO', 'Date': 1636170657}, {'City': 'lagoa', 'Lat': 39.05, 'Lng': -27.9833, 'Max Temp': 68.29, 'Humidity': 88, 'Cloudiness': 100, 'Wind Speed': 29.01, 'Country': 'PT', 'Date': 1636170658}, {'City': 'kodiak', 'Lat': 57.79, 'Lng': -152.4072, 'Max Temp': 34.79, 'Humidity': 81, 'Cloudiness': 99, 'Wind Speed': 7.11, 'Country': 'US', 'Date': 1636170659}, {'City': 'sao filipe', 'Lat': 14.8961, 'Lng': -24.4956, 'Max Temp': 78.73, 'Humidity': 73, 'Cloudiness': 53, 'Wind Speed': 6.24, 'Country': 'CV', 'Date': 1636170661}, {'City': 'bathsheba', 'Lat': 13.2167, 'Lng': -59.5167, 'Max Temp': 79.41, 'Humidity': 89, 'Cloudiness': 75, 'Wind Speed': 12.66, 'Country': 'BB', 'Date': 1636170662}, {'City': 'mahebourg', 'Lat': -20.4081, 'Lng': 57.7, 'Max Temp': 79.25, 'Humidity': 78, 'Cloudiness': 40, 'Wind Speed': 6.91, 'Country': 'MU', 'Date': 1636170663}, {'City': 'batemans bay', 'Lat': -35.7167, 'Lng': 150.1833, 'Max Temp': 80.2, 'Humidity': 59, 'Cloudiness': 46, 'Wind Speed': 15.5, 'Country': 'AU', 'Date': 1636170664}, {'City': 'port elizabeth', 'Lat': -33.918, 'Lng': 25.5701, 'Max Temp': 61.09, 'Humidity': 82, 'Cloudiness': 0, 'Wind Speed': 6.91, 'Country': 'ZA', 'Date': 1636170569}, {'City': 'bambous virieux', 'Lat': -20.3428, 'Lng': 57.7575, 'Max Temp': 79.21, 'Humidity': 78, 'Cloudiness': 40, 'Wind Speed': 6.91, 'Country': 'MU', 'Date': 1636170665}, {'City': 'buala', 'Lat': -8.145, 'Lng': 159.5921, 'Max Temp': 85.53, 'Humidity': 61, 'Cloudiness': 59, 'Wind Speed': 7.34, 'Country': 'SB', 'Date': 1636170666}, {'City': 'touros', 'Lat': -5.1989, 'Lng': -35.4608, 'Max Temp': 79.7, 'Humidity': 87, 'Cloudiness': 76, 'Wind Speed': 8.39, 'Country': 'BR', 'Date': 1636170668}, {'City': 'magaria', 'Lat': 12.9983, 'Lng': 8.9099, 'Max Temp': 75.87, 'Humidity': 18, 'Cloudiness': 19, 'Wind Speed': 8.12, 'Country': 'NE', 'Date': 1636170682}, {'City': 'yellowknife', 'Lat': 62.456, 'Lng': -114.3525, 'Max Temp': 28.42, 'Humidity': 100, 'Cloudiness': 90, 'Wind Speed': 9.22, 'Country': 'CA', 'Date': 1636170499}, {'City': 'san pedro', 'Lat': 14.35, 'Lng': 121.0167, 'Max Temp': 90.63, 'Humidity': 66, 'Cloudiness': 20, 'Wind Speed': 5.75, 'Country': 'PH', 'Date': 1636170683}, {'City': 'mataura', 'Lat': -46.1927, 'Lng': 168.8643, 'Max Temp': 67.48, 'Humidity': 35, 'Cloudiness': 100, 'Wind Speed': 1.99, 'Country': 'NZ', 'Date': 1636170683}, {'City': 'deniliquin', 'Lat': -35.5333, 'Lng': 144.9667, 'Max Temp': 77.29, 'Humidity': 43, 'Cloudiness': 100, 'Wind Speed': 15.52, 'Country': 'AU', 'Date': 1636170487}, {'City': 'beringovskiy', 'Lat': 63.05, 'Lng': 179.3167, 'Max Temp': 1.31, 'Humidity': 84, 'Cloudiness': 7, 'Wind Speed': 4.23, 'Country': 'RU', 'Date': 1636170684}, {'City': 'qaqortoq', 'Lat': 60.7167, 'Lng': -46.0333, 'Max Temp': 21.65, 'Humidity': 90, 'Cloudiness': 44, 'Wind Speed': 7.63, 'Country': 'GL', 'Date': 1636170686}, {'City': 'upernavik', 'Lat': 72.7868, 'Lng': -56.1549, 'Max Temp': 10.13, 'Humidity': 70, 'Cloudiness': 5, 'Wind Speed': 5.46, 'Country': 'GL', 'Date': 1636170688}, {'City': 'alta floresta', 'Lat': -9.8756, 'Lng': -56.0861, 'Max Temp': 71.4, 'Humidity': 99, 'Cloudiness': 100, 'Wind Speed': 3.13, 'Country': 'BR', 'Date': 1636170689}, {'City': 'amga', 'Lat': 60.8953, 'Lng': 131.9608, 'Max Temp': 8.51, 'Humidity': 83, 'Cloudiness': 100, 'Wind Speed': 7.83, 'Country': 'RU', 'Date': 1636170691}, {'City': 'maragogi', 'Lat': -9.0122, 'Lng': -35.2225, 'Max Temp': 76.75, 'Humidity': 91, 'Cloudiness': 99, 'Wind Speed': 7.83, 'Country': 'BR', 'Date': 1636170692}, {'City': 'klenovyy', 'Lat': 48.1193, 'Lng': 39.4588, 'Max Temp': 42.8, 'Humidity': 92, 'Cloudiness': 44, 'Wind Speed': 6.69, 'Country': 'UA', 'Date': 1636170694}, {'City': 'bluff', 'Lat': -46.6, 'Lng': 168.3333, 'Max Temp': 67.8, 'Humidity': 72, 'Cloudiness': 99, 'Wind Speed': 11.12, 'Country': 'NZ', 'Date': 1636170695}, {'City': 'staraya kulatka', 'Lat': 52.7167, 'Lng': 47.6167, 'Max Temp': 36.77, 'Humidity': 49, 'Cloudiness': 100, 'Wind Speed': 16.42, 'Country': 'RU', 'Date': 1636170695}, {'City': 'atuona', 'Lat': -9.8, 'Lng': -139.0333, 'Max Temp': 78.24, 'Humidity': 74, 'Cloudiness': 3, 'Wind Speed': 17.02, 'Country': 'PF', 'Date': 1636170697}, {'City': 'kampot', 'Lat': 10.6167, 'Lng': 104.1833, 'Max Temp': 86.05, 'Humidity': 66, 'Cloudiness': 100, 'Wind Speed': 5.82, 'Country': 'KH', 'Date': 1636170698}, {'City': 'saint-philippe', 'Lat': -21.3585, 'Lng': 55.7679, 'Max Temp': 81.48, 'Humidity': 71, 'Cloudiness': 0, 'Wind Speed': 6.82, 'Country': 'RE', 'Date': 1636170698}, {'City': 'saint george', 'Lat': 37.1041, 'Lng': -113.5841, 'Max Temp': 67.53, 'Humidity': 42, 'Cloudiness': 1, 'Wind Speed': 1.99, 'Country': 'US', 'Date': 1636170634}, {'City': 'arraial do cabo', 'Lat': -22.9661, 'Lng': -42.0278, 'Max Temp': 69.19, 'Humidity': 80, 'Cloudiness': 11, 'Wind Speed': 6.44, 'Country': 'BR', 'Date': 1636170700}, {'City': 'yar-sale', 'Lat': 66.8333, 'Lng': 70.8333, 'Max Temp': 28.02, 'Humidity': 97, 'Cloudiness': 100, 'Wind Speed': 13.4, 'Country': 'RU', 'Date': 1636170701}, {'City': 'provideniya', 'Lat': 64.3833, 'Lng': -173.3, 'Max Temp': 8.13, 'Humidity': 82, 'Cloudiness': 4, 'Wind Speed': 8.75, 'Country': 'RU', 'Date': 1636170703}, {'City': 'loa janan', 'Lat': -0.583, 'Lng': 117.095, 'Max Temp': 91.89, 'Humidity': 52, 'Cloudiness': 98, 'Wind Speed': 2.48, 'Country': 'ID', 'Date': 1636170704}, {'City': 'kostino', 'Lat': 58.9097, 'Lng': 53.2691, 'Max Temp': 36.82, 'Humidity': 91, 'Cloudiness': 100, 'Wind Speed': 15.28, 'Country': 'RU', 'Date': 1636170705}, {'City': 'isabela', 'Lat': 6.7085, 'Lng': 121.9711, 'Max Temp': 80.65, 'Humidity': 67, 'Cloudiness': 72, 'Wind Speed': 2.62, 'Country': 'PH', 'Date': 1636170570}, {'City': 'port alfred', 'Lat': -33.5906, 'Lng': 26.891, 'Max Temp': 63.43, 'Humidity': 82, 'Cloudiness': 100, 'Wind Speed': 5.08, 'Country': 'ZA', 'Date': 1636170706}, {'City': 'castro', 'Lat': -24.7911, 'Lng': -50.0119, 'Max Temp': 62.11, 'Humidity': 93, 'Cloudiness': 93, 'Wind Speed': 2.21, 'Country': 'BR', 'Date': 1636170708}, {'City': 'bandarbeyla', 'Lat': 9.4942, 'Lng': 50.8122, 'Max Temp': 77.27, 'Humidity': 74, 'Cloudiness': 2, 'Wind Speed': 6.06, 'Country': 'SO', 'Date': 1636170709}, {'City': 'lebu', 'Lat': -37.6167, 'Lng': -73.65, 'Max Temp': 51.66, 'Humidity': 92, 'Cloudiness': 2, 'Wind Speed': 14.43, 'Country': 'CL', 'Date': 1636170711}, {'City': 'petropavlovsk-kamchatskiy', 'Lat': 53.0452, 'Lng': 158.6483, 'Max Temp': 37.99, 'Humidity': 48, 'Cloudiness': 40, 'Wind Speed': 4.47, 'Country': 'RU', 'Date': 1636170712}, {'City': 'ayan', 'Lat': 56.45, 'Lng': 138.1667, 'Max Temp': 21.43, 'Humidity': 87, 'Cloudiness': 100, 'Wind Speed': 19.91, 'Country': 'RU', 'Date': 1636170714}, {'City': 'butaritari', 'Lat': 3.0707, 'Lng': 172.7902, 'Max Temp': 82.4, 'Humidity': 71, 'Cloudiness': 54, 'Wind Speed': 11.95, 'Country': 'KI', 'Date': 1636170715}, {'City': 'port lincoln', 'Lat': -34.7333, 'Lng': 135.8667, 'Max Temp': 62.22, 'Humidity': 79, 'Cloudiness': 98, 'Wind Speed': 18.37, 'Country': 'AU', 'Date': 1636170717}, {'City': 'hobart', 'Lat': -42.8794, 'Lng': 147.3294, 'Max Temp': 75.06, 'Humidity': 53, 'Cloudiness': 75, 'Wind Speed': 20.71, 'Country': 'AU', 'Date': 1636170583}, {'City': 'mont-dore', 'Lat': -22.2833, 'Lng': 166.5833, 'Max Temp': 78.78, 'Humidity': 61, 'Cloudiness': 83, 'Wind Speed': 9.66, 'Country': 'NC', 'Date': 1636170672}, {'City': 'la ronge', 'Lat': 55.1001, 'Lng': -105.2842, 'Max Temp': 35.85, 'Humidity': 87, 'Cloudiness': 90, 'Wind Speed': 3.44, 'Country': 'CA', 'Date': 1636170718}, {'City': 'yuzhno-kurilsk', 'Lat': 44.0306, 'Lng': 145.8556, 'Max Temp': 46.78, 'Humidity': 64, 'Cloudiness': 68, 'Wind Speed': 1.74, 'Country': 'RU', 'Date': 1636170719}, {'City': 'inhambane', 'Lat': -23.865, 'Lng': 35.3833, 'Max Temp': 75.18, 'Humidity': 94, 'Cloudiness': 75, 'Wind Speed': 5.01, 'Country': 'MZ', 'Date': 1636170719}, {'City': 'ranong', 'Lat': 9.9658, 'Lng': 98.6348, 'Max Temp': 82.33, 'Humidity': 68, 'Cloudiness': 100, 'Wind Speed': 5.06, 'Country': 'TH', 'Date': 1636170488}, {'City': 'tayoltita', 'Lat': 24.0833, 'Lng': -105.9333, 'Max Temp': 64.96, 'Humidity': 88, 'Cloudiness': 52, 'Wind Speed': 4.16, 'Country': 'MX', 'Date': 1636170722}, {'City': 'laurel', 'Lat': 39.0993, 'Lng': -76.8483, 'Max Temp': 42.24, 'Humidity': 83, 'Cloudiness': 1, 'Wind Speed': 0, 'Country': 'US', 'Date': 1636170722}, {'City': 'boyolangu', 'Lat': -8.1181, 'Lng': 111.8935, 'Max Temp': 87.4, 'Humidity': 64, 'Cloudiness': 64, 'Wind Speed': 2.71, 'Country': 'ID', 'Date': 1636170723}, {'City': 'hamilton', 'Lat': 39.1834, 'Lng': -84.5333, 'Max Temp': 41.36, 'Humidity': 80, 'Cloudiness': 1, 'Wind Speed': 0, 'Country': 'US', 'Date': 1636170723}, {'City': 'juneau', 'Lat': 58.3019, 'Lng': -134.4197, 'Max Temp': 42.22, 'Humidity': 95, 'Cloudiness': 90, 'Wind Speed': 5.75, 'Country': 'US', 'Date': 1636170724}, {'City': 'nouadhibou', 'Lat': 20.931, 'Lng': -17.0347, 'Max Temp': 69.78, 'Humidity': 68, 'Cloudiness': 0, 'Wind Speed': 17.27, 'Country': 'MR', 'Date': 1636170726}, {'City': 'lakhnadon', 'Lat': 22.6, 'Lng': 79.6, 'Max Temp': 72.59, 'Humidity': 36, 'Cloudiness': 32, 'Wind Speed': 3.33, 'Country': 'IN', 'Date': 1636170727}, {'City': 'chokurdakh', 'Lat': 70.6333, 'Lng': 147.9167, 'Max Temp': -0.27, 'Humidity': 90, 'Cloudiness': 99, 'Wind Speed': 6.13, 'Country': 'RU', 'Date': 1636170727}, {'City': 'finnsnes', 'Lat': 69.2296, 'Lng': 17.9811, 'Max Temp': 34.34, 'Humidity': 99, 'Cloudiness': 100, 'Wind Speed': 1.68, 'Country': 'NO', 'Date': 1636170742}, {'City': 'zhigansk', 'Lat': 66.7697, 'Lng': 123.3711, 'Max Temp': 7.57, 'Humidity': 94, 'Cloudiness': 100, 'Wind Speed': 21.25, 'Country': 'RU', 'Date': 1636170743}, {'City': 'ponta do sol', 'Lat': 32.6667, 'Lng': -17.1, 'Max Temp': 67.71, 'Humidity': 64, 'Cloudiness': 8, 'Wind Speed': 8.57, 'Country': 'PT', 'Date': 1636170744}, {'City': 'tuktoyaktuk', 'Lat': 69.4541, 'Lng': -133.0374, 'Max Temp': 23, 'Humidity': 86, 'Cloudiness': 90, 'Wind Speed': 14.97, 'Country': 'CA', 'Date': 1636170746}, {'City': 'adrar', 'Lat': 20.5022, 'Lng': -10.0711, 'Max Temp': 66.63, 'Humidity': 43, 'Cloudiness': 57, 'Wind Speed': 9.98, 'Country': 'MR', 'Date': 1636170747}, {'City': 'qaanaaq', 'Lat': 77.484, 'Lng': -69.3632, 'Max Temp': 11.34, 'Humidity': 69, 'Cloudiness': 99, 'Wind Speed': 10.58, 'Country': 'GL', 'Date': 1636170749}, {'City': 'cape town', 'Lat': -33.9258, 'Lng': 18.4232, 'Max Temp': 56.12, 'Humidity': 80, 'Cloudiness': 40, 'Wind Speed': 5.75, 'Country': 'ZA', 'Date': 1636170533}, {'City': 'kavieng', 'Lat': -2.5744, 'Lng': 150.7967, 'Max Temp': 84.54, 'Humidity': 72, 'Cloudiness': 87, 'Wind Speed': 13, 'Country': 'PG', 'Date': 1636170750}, {'City': 'bambanglipuro', 'Lat': -7.95, 'Lng': 110.2833, 'Max Temp': 89.53, 'Humidity': 56, 'Cloudiness': 17, 'Wind Speed': 4.27, 'Country': 'ID', 'Date': 1636170752}, {'City': 'tukrah', 'Lat': 32.5341, 'Lng': 20.5791, 'Max Temp': 73.83, 'Humidity': 39, 'Cloudiness': 32, 'Wind Speed': 5.32, 'Country': 'LY', 'Date': 1636170753}, {'City': 'bubaque', 'Lat': 11.2833, 'Lng': -15.8333, 'Max Temp': 83.21, 'Humidity': 76, 'Cloudiness': 7, 'Wind Speed': 10.02, 'Country': 'GW', 'Date': 1636170754}, {'City': 'khatanga', 'Lat': 71.9667, 'Lng': 102.5, 'Max Temp': 6.51, 'Humidity': 92, 'Cloudiness': 100, 'Wind Speed': 20.29, 'Country': 'RU', 'Date': 1636170756}, {'City': 'sidi ali', 'Lat': 36.0998, 'Lng': 0.4206, 'Max Temp': 50.81, 'Humidity': 87, 'Cloudiness': 100, 'Wind Speed': 15.82, 'Country': 'DZ', 'Date': 1636170757}, {'City': 'tromso', 'Lat': 69.6496, 'Lng': 18.957, 'Max Temp': 34.38, 'Humidity': 86, 'Cloudiness': 90, 'Wind Speed': 2.3, 'Country': 'NO', 'Date': 1636170759}, {'City': 'tiarei', 'Lat': -17.5333, 'Lng': -149.3333, 'Max Temp': 80.62, 'Humidity': 72, 'Cloudiness': 99, 'Wind Speed': 7.94, 'Country': 'PF', 'Date': 1636170760}, {'City': 'hilo', 'Lat': 19.7297, 'Lng': -155.09, 'Max Temp': 81.28, 'Humidity': 75, 'Cloudiness': 1, 'Wind Speed': 4.61, 'Country': 'US', 'Date': 1636170761}, {'City': 'alofi', 'Lat': -19.0595, 'Lng': -169.9187, 'Max Temp': 78.69, 'Humidity': 73, 'Cloudiness': 34, 'Wind Speed': 10.36, 'Country': 'NU', 'Date': 1636170590}, {'City': 'sorland', 'Lat': 67.667, 'Lng': 12.6934, 'Max Temp': 42.06, 'Humidity': 81, 'Cloudiness': 92, 'Wind Speed': 33.91, 'Country': 'NO', 'Date': 1636170763}, {'City': 'komsomolskiy', 'Lat': 40.4272, 'Lng': 71.7189, 'Max Temp': 36.32, 'Humidity': 55, 'Cloudiness': 75, 'Wind Speed': 0, 'Country': 'UZ', 'Date': 1636170764}, {'City': 'hoquiam', 'Lat': 46.9809, 'Lng': -123.8893, 'Max Temp': 48.99, 'Humidity': 46, 'Cloudiness': 90, 'Wind Speed': 8.05, 'Country': 'US', 'Date': 1636170765}, {'City': 'mbanza-ngungu', 'Lat': -5.25, 'Lng': 14.8667, 'Max Temp': 69.73, 'Humidity': 97, 'Cloudiness': 100, 'Wind Speed': 5.55, 'Country': 'CD', 'Date': 1636170765}, {'City': 'vao', 'Lat': -22.6667, 'Lng': 167.4833, 'Max Temp': 69.06, 'Humidity': 62, 'Cloudiness': 100, 'Wind Speed': 11.01, 'Country': 'NC', 'Date': 1636170768}, {'City': 'turinskaya sloboda', 'Lat': 57.6232, 'Lng': 64.3858, 'Max Temp': 34.23, 'Humidity': 73, 'Cloudiness': 100, 'Wind Speed': 11.56, 'Country': 'RU', 'Date': 1636170768}, {'City': 'tual', 'Lat': -5.6667, 'Lng': 132.75, 'Max Temp': 84.06, 'Humidity': 70, 'Cloudiness': 75, 'Wind Speed': 3.49, 'Country': 'ID', 'Date': 1636170770}, {'City': 'trinidad', 'Lat': -14.8333, 'Lng': -64.9, 'Max Temp': 75.58, 'Humidity': 86, 'Cloudiness': 76, 'Wind Speed': 2.44, 'Country': 'BO', 'Date': 1636170770}, {'City': 'guerrero negro', 'Lat': 27.9769, 'Lng': -114.0611, 'Max Temp': 66.52, 'Humidity': 87, 'Cloudiness': 42, 'Wind Speed': 8.55, 'Country': 'MX', 'Date': 1636170771}, {'City': 'fortuna', 'Lat': 40.5982, 'Lng': -124.1573, 'Max Temp': 52.41, 'Humidity': 69, 'Cloudiness': 1, 'Wind Speed': 5.01, 'Country': 'US', 'Date': 1636170772}, {'City': 'geraldton', 'Lat': -28.7667, 'Lng': 114.6, 'Max Temp': 72.01, 'Humidity': 46, 'Cloudiness': 0, 'Wind Speed': 16.11, 'Country': 'AU', 'Date': 1636170533}, {'City': 'annau', 'Lat': 37.8876, 'Lng': 58.516, 'Max Temp': 29.7, 'Humidity': 80, 'Cloudiness': 55, 'Wind Speed': 2.3, 'Country': 'TM', 'Date': 1636170773}, {'City': 'shenjiamen', 'Lat': 29.9576, 'Lng': 122.298, 'Max Temp': 67.66, 'Humidity': 88, 'Cloudiness': 67, 'Wind Speed': 23.89, 'Country': 'CN', 'Date': 1636170774}, {'City': 'lata', 'Lat': 40.1629, 'Lng': -8.3327, 'Max Temp': 49.82, 'Humidity': 82, 'Cloudiness': 0, 'Wind Speed': 4.43, 'Country': 'PT', 'Date': 1636170775}, {'City': 'ilulissat', 'Lat': 69.2167, 'Lng': -51.1, 'Max Temp': 0.73, 'Humidity': 73, 'Cloudiness': 36, 'Wind Speed': 7.61, 'Country': 'GL', 'Date': 1636170776}, {'City': 'batsfjord', 'Lat': 70.6345, 'Lng': 29.7185, 'Max Temp': 35.73, 'Humidity': 99, 'Cloudiness': 100, 'Wind Speed': 26.08, 'Country': 'NO', 'Date': 1636170777}, {'City': 'kruisfontein', 'Lat': -34.0033, 'Lng': 24.7314, 'Max Temp': 57.18, 'Humidity': 82, 'Cloudiness': 100, 'Wind Speed': 3.83, 'Country': 'ZA', 'Date': 1636170779}, {'City': 'varkaus', 'Lat': 62.3153, 'Lng': 27.873, 'Max Temp': 39.31, 'Humidity': 88, 'Cloudiness': 100, 'Wind Speed': 8.99, 'Country': 'FI', 'Date': 1636170532}, {'City': 'codrington', 'Lat': -38.2667, 'Lng': 141.9667, 'Max Temp': 65.84, 'Humidity': 85, 'Cloudiness': 98, 'Wind Speed': 16.31, 'Country': 'AU', 'Date': 1636170780}, {'City': 'mamakan', 'Lat': 57.8161, 'Lng': 114.0028, 'Max Temp': 20.08, 'Humidity': 72, 'Cloudiness': 100, 'Wind Speed': 15.61, 'Country': 'RU', 'Date': 1636170781}, {'City': 'cabo san lucas', 'Lat': 22.8909, 'Lng': -109.9124, 'Max Temp': 77.5, 'Humidity': 71, 'Cloudiness': 52, 'Wind Speed': 6.96, 'Country': 'MX', 'Date': 1636170783}, {'City': 'nanganga', 'Lat': -10.3833, 'Lng': 39.15, 'Max Temp': 74.48, 'Humidity': 80, 'Cloudiness': 12, 'Wind Speed': 2.42, 'Country': 'TZ', 'Date': 1636170783}, {'City': 'cabinda', 'Lat': -5.55, 'Lng': 12.2, 'Max Temp': 77, 'Humidity': 89, 'Cloudiness': 100, 'Wind Speed': 5.37, 'Country': 'AO', 'Date': 1636170785}, {'City': 'kaitangata', 'Lat': -46.2817, 'Lng': 169.8464, 'Max Temp': 58.93, 'Humidity': 71, 'Cloudiness': 97, 'Wind Speed': 14.27, 'Country': 'NZ', 'Date': 1636170787}, {'City': 'along', 'Lat': 28.1667, 'Lng': 94.7667, 'Max Temp': 74.79, 'Humidity': 39, 'Cloudiness': 67, 'Wind Speed': 0.74, 'Country': 'IN', 'Date': 1636170787}, {'City': 'aligudarz', 'Lat': 33.4006, 'Lng': 49.6949, 'Max Temp': 44.31, 'Humidity': 78, 'Cloudiness': 99, 'Wind Speed': 4.12, 'Country': 'IR', 'Date': 1636170788}, {'City': 'mildura', 'Lat': -34.2, 'Lng': 142.15, 'Max Temp': 71.56, 'Humidity': 73, 'Cloudiness': 90, 'Wind Speed': 9.22, 'Country': 'AU', 'Date': 1636170789}, {'City': 'honiara', 'Lat': -9.4333, 'Lng': 159.95, 'Max Temp': 84.22, 'Humidity': 71, 'Cloudiness': 31, 'Wind Speed': 2.91, 'Country': 'SB', 'Date': 1636170789}, {'City': 'barrow', 'Lat': 71.2906, 'Lng': -156.7887, 'Max Temp': 26.62, 'Humidity': 80, 'Cloudiness': 90, 'Wind Speed': 27.63, 'Country': 'US', 'Date': 1636170686}, {'City': 'norman wells', 'Lat': 65.282, 'Lng': -126.8329, 'Max Temp': 17.64, 'Humidity': 93, 'Cloudiness': 90, 'Wind Speed': 0, 'Country': 'CA', 'Date': 1636170802}, {'City': 'avarua', 'Lat': -21.2078, 'Lng': -159.775, 'Max Temp': 75.25, 'Humidity': 69, 'Cloudiness': 71, 'Wind Speed': 11.5, 'Country': 'CK', 'Date': 1636170803}, {'City': 'vieques', 'Lat': 18.425, 'Lng': -65.8329, 'Max Temp': 80.91, 'Humidity': 78, 'Cloudiness': 20, 'Wind Speed': 3.44, 'Country': 'PR', 'Date': 1636170805}, {'City': 'carutapera', 'Lat': -1.195, 'Lng': -46.02, 'Max Temp': 76.91, 'Humidity': 91, 'Cloudiness': 99, 'Wind Speed': 5.39, 'Country': 'BR', 'Date': 1636170806}, {'City': 'high level', 'Lat': 58.5169, 'Lng': -117.136, 'Max Temp': 32.11, 'Humidity': 100, 'Cloudiness': 90, 'Wind Speed': 4.61, 'Country': 'CA', 'Date': 1636170807}, {'City': 'itoman', 'Lat': 26.1247, 'Lng': 127.6694, 'Max Temp': 72.37, 'Humidity': 96, 'Cloudiness': 75, 'Wind Speed': 20.71, 'Country': 'JP', 'Date': 1636170809}, {'City': 'santa cruz de la palma', 'Lat': 28.6835, 'Lng': -17.7642, 'Max Temp': 68.14, 'Humidity': 68, 'Cloudiness': 75, 'Wind Speed': 9.22, 'Country': 'ES', 'Date': 1636170809}, {'City': 'conil', 'Lat': 44.9673, 'Lng': 3.7177, 'Max Temp': 26.56, 'Humidity': 98, 'Cloudiness': 69, 'Wind Speed': 5.84, 'Country': 'FR', 'Date': 1636170810}, {'City': 'san cristobal', 'Lat': 7.7669, 'Lng': -72.225, 'Max Temp': 71.78, 'Humidity': 95, 'Cloudiness': 60, 'Wind Speed': 2.59, 'Country': 'VE', 'Date': 1636170812}, {'City': 'baherden', 'Lat': 38.4362, 'Lng': 57.4316, 'Max Temp': 37.78, 'Humidity': 29, 'Cloudiness': 95, 'Wind Speed': 5.3, 'Country': 'TM', 'Date': 1636170813}, {'City': 'paamiut', 'Lat': 61.994, 'Lng': -49.6678, 'Max Temp': 27.1, 'Humidity': 93, 'Cloudiness': 96, 'Wind Speed': 16.17, 'Country': 'GL', 'Date': 1636170815}, {'City': 'cortez', 'Lat': 37.3489, 'Lng': -108.5859, 'Max Temp': 52.41, 'Humidity': 41, 'Cloudiness': 0, 'Wind Speed': 4.47, 'Country': 'US', 'Date': 1636170816}, {'City': 'nanortalik', 'Lat': 60.1432, 'Lng': -45.2371, 'Max Temp': 29.12, 'Humidity': 76, 'Cloudiness': 50, 'Wind Speed': 4.09, 'Country': 'GL', 'Date': 1636170817}, {'City': 'bo phloi', 'Lat': 14.3236, 'Lng': 99.5161, 'Max Temp': 86.49, 'Humidity': 67, 'Cloudiness': 60, 'Wind Speed': 1.86, 'Country': 'TH', 'Date': 1636170819}, {'City': 'massakory', 'Lat': 12.996, 'Lng': 15.7293, 'Max Temp': 80.4, 'Humidity': 20, 'Cloudiness': 3, 'Wind Speed': 9.55, 'Country': 'TD', 'Date': 1636170819}, {'City': 'bria', 'Lat': 6.5423, 'Lng': 21.9863, 'Max Temp': 69.04, 'Humidity': 93, 'Cloudiness': 78, 'Wind Speed': 3.04, 'Country': 'CF', 'Date': 1636170820}, {'City': 'lompoc', 'Lat': 34.6391, 'Lng': -120.4579, 'Max Temp': 61.79, 'Humidity': 88, 'Cloudiness': 20, 'Wind Speed': 3.44, 'Country': 'US', 'Date': 1636170822}, {'City': 'bredasdorp', 'Lat': -34.5322, 'Lng': 20.0403, 'Max Temp': 47.28, 'Humidity': 93, 'Cloudiness': 18, 'Wind Speed': 0, 'Country': 'ZA', 'Date': 1636170823}, {'City': 'thompson', 'Lat': 55.7435, 'Lng': -97.8558, 'Max Temp': 30.36, 'Humidity': 100, 'Cloudiness': 75, 'Wind Speed': 4.61, 'Country': 'CA', 'Date': 1636170824}, {'City': 'chuy', 'Lat': -33.6971, 'Lng': -53.4616, 'Max Temp': 60.71, 'Humidity': 75, 'Cloudiness': 100, 'Wind Speed': 13.42, 'Country': 'UY', 'Date': 1636170825}, {'City': 'kibala', 'Lat': 9.1104, 'Lng': 18.3463, 'Max Temp': 73.35, 'Humidity': 94, 'Cloudiness': 0, 'Wind Speed': 0, 'Country': 'TD', 'Date': 1636170827}, {'City': 'camana', 'Lat': -16.6228, 'Lng': -72.7111, 'Max Temp': 64.4, 'Humidity': 84, 'Cloudiness': 25, 'Wind Speed': 5.75, 'Country': 'PE', 'Date': 1636170828}, {'City': 'san quintin', 'Lat': 30.4833, 'Lng': -115.95, 'Max Temp': 63.7, 'Humidity': 89, 'Cloudiness': 2, 'Wind Speed': 4.52, 'Country': 'MX', 'Date': 1636170830}, {'City': 'camacha', 'Lat': 33.0833, 'Lng': -16.3333, 'Max Temp': 63.82, 'Humidity': 55, 'Cloudiness': 75, 'Wind Speed': 10.36, 'Country': 'PT', 'Date': 1636170831}, {'City': 'askarovo', 'Lat': 53.3372, 'Lng': 58.5089, 'Max Temp': 27.55, 'Humidity': 24, 'Cloudiness': 98, 'Wind Speed': 13.42, 'Country': 'RU', 'Date': 1636170832}, {'City': 'khorinsk', 'Lat': 52.1657, 'Lng': 109.7726, 'Max Temp': 18.57, 'Humidity': 46, 'Cloudiness': 6, 'Wind Speed': 8.72, 'Country': 'RU', 'Date': 1636170833}, {'City': 'dunedin', 'Lat': -45.8742, 'Lng': 170.5036, 'Max Temp': 55.8, 'Humidity': 71, 'Cloudiness': 73, 'Wind Speed': 18.99, 'Country': 'NZ', 'Date': 1636170618}, {'City': 'ahipara', 'Lat': -35.1667, 'Lng': 173.1667, 'Max Temp': 64, 'Humidity': 86, 'Cloudiness': 54, 'Wind Speed': 5.77, 'Country': 'NZ', 'Date': 1636170835}, {'City': 'sovetskaya gavan', 'Lat': 48.9723, 'Lng': 140.2878, 'Max Temp': 49.6, 'Humidity': 53, 'Cloudiness': 14, 'Wind Speed': 11.34, 'Country': 'RU', 'Date': 1636170835}, {'City': 'bethel', 'Lat': 41.3712, 'Lng': -73.414, 'Max Temp': 43.7, 'Humidity': 79, 'Cloudiness': 0, 'Wind Speed': 3.04, 'Country': 'US', 'Date': 1636170835}, {'City': 'mar del plata', 'Lat': -38.0023, 'Lng': -57.5575, 'Max Temp': 54.88, 'Humidity': 77, 'Cloudiness': 0, 'Wind Speed': 8.99, 'Country': 'AR', 'Date': 1636170836}, {'City': 'khorramshahr', 'Lat': 30.4397, 'Lng': 48.1664, 'Max Temp': 62.56, 'Humidity': 63, 'Cloudiness': 0, 'Wind Speed': 2.3, 'Country': 'IR', 'Date': 1636170838}, {'City': 'lavrentiya', 'Lat': 65.5833, 'Lng': -171, 'Max Temp': 4.95, 'Humidity': 82, 'Cloudiness': 95, 'Wind Speed': 11.61, 'Country': 'RU', 'Date': 1636170839}, {'City': 'vila franca do campo', 'Lat': 37.7167, 'Lng': -25.4333, 'Max Temp': 70.21, 'Humidity': 82, 'Cloudiness': 99, 'Wind Speed': 17.36, 'Country': 'PT', 'Date': 1636170841}, {'City': 'krasnoselkup', 'Lat': 65.7, 'Lng': 82.4667, 'Max Temp': 6.08, 'Humidity': 100, 'Cloudiness': 97, 'Wind Speed': 7.05, 'Country': 'RU', 'Date': 1636170842}, {'City': 'troitsko-pechorsk', 'Lat': 62.7084, 'Lng': 56.1964, 'Max Temp': 36.36, 'Humidity': 97, 'Cloudiness': 100, 'Wind Speed': 13, 'Country': 'RU', 'Date': 1636170843}, {'City': 'te anau', 'Lat': -45.4167, 'Lng': 167.7167, 'Max Temp': 69.64, 'Humidity': 51, 'Cloudiness': 83, 'Wind Speed': 3.67, 'Country': 'NZ', 'Date': 1636170607}, {'City': 'jedrzejow', 'Lat': 50.6394, 'Lng': 20.3045, 'Max Temp': 44.37, 'Humidity': 80, 'Cloudiness': 82, 'Wind Speed': 3, 'Country': 'PL', 'Date': 1636170845}, {'City': 'dongsheng', 'Lat': 39.8161, 'Lng': 109.9776, 'Max Temp': 18.03, 'Humidity': 87, 'Cloudiness': 100, 'Wind Speed': 28.7, 'Country': 'CN', 'Date': 1636170846}, {'City': 'banda aceh', 'Lat': 5.5577, 'Lng': 95.3222, 'Max Temp': 81.82, 'Humidity': 78, 'Cloudiness': 100, 'Wind Speed': 7.47, 'Country': 'ID', 'Date': 1636170846}, {'City': 'voznesenye', 'Lat': 61.0106, 'Lng': 35.4781, 'Max Temp': 42.98, 'Humidity': 80, 'Cloudiness': 100, 'Wind Speed': 16.2, 'Country': 'RU', 'Date': 1636170847}, {'City': 'najran', 'Lat': 17.4924, 'Lng': 44.1277, 'Max Temp': 56.05, 'Humidity': 25, 'Cloudiness': 100, 'Wind Speed': 1.23, 'Country': 'SA', 'Date': 1636170848}, {'City': 'sorrento', 'Lat': 40.626, 'Lng': 14.3744, 'Max Temp': 63.79, 'Humidity': 54, 'Cloudiness': 75, 'Wind Speed': 10.36, 'Country': 'IT', 'Date': 1636170849}, {'City': 'eaglesfield', 'Lat': 54.6406, 'Lng': -3.4044, 'Max Temp': 51.4, 'Humidity': 94, 'Cloudiness': 100, 'Wind Speed': 5.01, 'Country': 'GB', 'Date': 1636170850}, {'City': 'pandamatenga', 'Lat': -18.5278, 'Lng': 25.627, 'Max Temp': 72.05, 'Humidity': 51, 'Cloudiness': 89, 'Wind Speed': 3.11, 'Country': 'BW', 'Date': 1636170852}, {'City': 'cherskiy', 'Lat': 68.75, 'Lng': 161.3, 'Max Temp': 2.23, 'Humidity': 87, 'Cloudiness': 86, 'Wind Speed': 10.29, 'Country': 'RU', 'Date': 1636170853}, {'City': 'domoni', 'Lat': -12.2569, 'Lng': 44.5319, 'Max Temp': 80.51, 'Humidity': 77, 'Cloudiness': 81, 'Wind Speed': 2.57, 'Country': 'KM', 'Date': 1636170855}, {'City': 'tezu', 'Lat': 27.9167, 'Lng': 96.1667, 'Max Temp': 77.47, 'Humidity': 29, 'Cloudiness': 39, 'Wind Speed': 3.13, 'Country': 'IN', 'Date': 1636170859}, {'City': 'umea', 'Lat': 63.8284, 'Lng': 20.2597, 'Max Temp': 32.92, 'Humidity': 100, 'Cloudiness': 0, 'Wind Speed': 5.75, 'Country': 'SE', 'Date': 1636170862}, {'City': 'saint-pierre', 'Lat': -21.3393, 'Lng': 55.4781, 'Max Temp': 81.57, 'Humidity': 61, 'Cloudiness': 20, 'Wind Speed': 5.75, 'Country': 'RE', 'Date': 1636170863}, {'City': 'novoilinsk', 'Lat': 51.6829, 'Lng': 108.7143, 'Max Temp': 19.78, 'Humidity': 32, 'Cloudiness': 0, 'Wind Speed': 5.5, 'Country': 'RU', 'Date': 1636170865}, {'City': 'kangaatsiaq', 'Lat': 68.3065, 'Lng': -53.4641, 'Max Temp': 19.62, 'Humidity': 62, 'Cloudiness': 35, 'Wind Speed': 7.29, 'Country': 'GL', 'Date': 1636170865}, {'City': 'nantucket', 'Lat': 41.2835, 'Lng': -70.0995, 'Max Temp': 47.97, 'Humidity': 62, 'Cloudiness': 5, 'Wind Speed': 11.7, 'Country': 'US', 'Date': 1636170866}, {'City': 'hithadhoo', 'Lat': -0.6, 'Lng': 73.0833, 'Max Temp': 78.71, 'Humidity': 84, 'Cloudiness': 100, 'Wind Speed': 16.13, 'Country': 'MV', 'Date': 1636170867}, {'City': 'ancud', 'Lat': -41.8697, 'Lng': -73.8203, 'Max Temp': 49.53, 'Humidity': 84, 'Cloudiness': 4, 'Wind Speed': 3.4, 'Country': 'CL', 'Date': 1636170867}, {'City': 'tilichiki', 'Lat': 60.4667, 'Lng': 166.1, 'Max Temp': 11.35, 'Humidity': 94, 'Cloudiness': 94, 'Wind Speed': 0.89, 'Country': 'RU', 'Date': 1636170869}, {'City': 'saldanha', 'Lat': -33.0117, 'Lng': 17.9442, 'Max Temp': 51.85, 'Humidity': 68, 'Cloudiness': 72, 'Wind Speed': 11.3, 'Country': 'ZA', 'Date': 1636170870}, {'City': 'cidreira', 'Lat': -30.1811, 'Lng': -50.2056, 'Max Temp': 68.14, 'Humidity': 91, 'Cloudiness': 100, 'Wind Speed': 8.55, 'Country': 'BR', 'Date': 1636170872}, {'City': 'constitucion', 'Lat': -35.3333, 'Lng': -72.4167, 'Max Temp': 50.52, 'Humidity': 91, 'Cloudiness': 3, 'Wind Speed': 3.96, 'Country': 'CL', 'Date': 1636170873}, {'City': 'namatanai', 'Lat': -3.6667, 'Lng': 152.4333, 'Max Temp': 85.8, 'Humidity': 66, 'Cloudiness': 72, 'Wind Speed': 10.96, 'Country': 'PG', 'Date': 1636170875}, {'City': 'cayenne', 'Lat': 4.9333, 'Lng': -52.3333, 'Max Temp': 79.09, 'Humidity': 91, 'Cloudiness': 20, 'Wind Speed': 3, 'Country': 'GF', 'Date': 1636170877}, {'City': 'veraval', 'Lat': 20.9, 'Lng': 70.3667, 'Max Temp': 82.24, 'Humidity': 41, 'Cloudiness': 84, 'Wind Speed': 13.09, 'Country': 'IN', 'Date': 1636170878}, {'City': 'mundo nuevo', 'Lat': 18.7, 'Lng': -95.5, 'Max Temp': 74.88, 'Humidity': 78, 'Cloudiness': 69, 'Wind Speed': 11.16, 'Country': 'MX', 'Date': 1636170879}, {'City': 'boyuibe', 'Lat': -20.4167, 'Lng': -63.2833, 'Max Temp': 52.74, 'Humidity': 89, 'Cloudiness': 100, 'Wind Speed': 10.85, 'Country': 'BO', 'Date': 1636170879}, {'City': 'riviera beach', 'Lat': 26.7753, 'Lng': -80.0581, 'Max Temp': 77.02, 'Humidity': 90, 'Cloudiness': 55, 'Wind Speed': 1.01, 'Country': 'US', 'Date': 1636170881}, {'City': 'siuna', 'Lat': 13.7332, 'Lng': -84.7773, 'Max Temp': 72.27, 'Humidity': 98, 'Cloudiness': 100, 'Wind Speed': 4.16, 'Country': 'NI', 'Date': 1636170882}, {'City': 'bireun', 'Lat': 5.203, 'Lng': 96.7009, 'Max Temp': 83.3, 'Humidity': 74, 'Cloudiness': 77, 'Wind Speed': 6.42, 'Country': 'ID', 'Date': 1636170883}, {'City': 'tanout', 'Lat': 14.9709, 'Lng': 8.8879, 'Max Temp': 77.36, 'Humidity': 16, 'Cloudiness': 100, 'Wind Speed': 9.33, 'Country': 'NE', 'Date': 1636170883}, {'City': 'borogontsy', 'Lat': 62.6683, 'Lng': 131.1683, 'Max Temp': 7.5, 'Humidity': 86, 'Cloudiness': 100, 'Wind Speed': 7.11, 'Country': 'RU', 'Date': 1636170884}, {'City': 'praya', 'Lat': 14.9215, 'Lng': -23.5087, 'Max Temp': 75.74, 'Humidity': 83, 'Cloudiness': 20, 'Wind Speed': 13.8, 'Country': 'CV', 'Date': 1636170886}, {'City': 'tasiilaq', 'Lat': 65.6145, 'Lng': -37.6368, 'Max Temp': 14.27, 'Humidity': 81, 'Cloudiness': 99, 'Wind Speed': 7.18, 'Country': 'GL', 'Date': 1636170887}, {'City': 'yulara', 'Lat': -25.2406, 'Lng': 130.9889, 'Max Temp': 93.04, 'Humidity': 27, 'Cloudiness': 57, 'Wind Speed': 8.05, 'Country': 'AU', 'Date': 1636170888}, {'City': 'padang', 'Lat': -0.9492, 'Lng': 100.3543, 'Max Temp': 84.25, 'Humidity': 77, 'Cloudiness': 100, 'Wind Speed': 3.74, 'Country': 'ID', 'Date': 1636170689}, {'City': 'kongolo', 'Lat': -5.3833, 'Lng': 27, 'Max Temp': 66.4, 'Humidity': 97, 'Cloudiness': 99, 'Wind Speed': 2.17, 'Country': 'CD', 'Date': 1636170889}, {'City': 'ningxiang', 'Lat': 37.34, 'Lng': 111.2052, 'Max Temp': 30.49, 'Humidity': 93, 'Cloudiness': 100, 'Wind Speed': 11.12, 'Country': 'CN', 'Date': 1636170891}, {'City': 'magadan', 'Lat': 59.5667, 'Lng': 150.8, 'Max Temp': 29.53, 'Humidity': 93, 'Cloudiness': 100, 'Wind Speed': 2.17, 'Country': 'RU', 'Date': 1636170892}, {'City': 'emerald', 'Lat': -23.5333, 'Lng': 148.1667, 'Max Temp': 89.74, 'Humidity': 40, 'Cloudiness': 40, 'Wind Speed': 11.5, 'Country': 'AU', 'Date': 1636170600}, {'City': 'baghdad', 'Lat': 33.3406, 'Lng': 44.4009, 'Max Temp': 57.11, 'Humidity': 58, 'Cloudiness': 0, 'Wind Speed': 8.05, 'Country': 'IQ', 'Date': 1636170735}, {'City': 'turayf', 'Lat': 31.6725, 'Lng': 38.6637, 'Max Temp': 53.85, 'Humidity': 71, 'Cloudiness': 0, 'Wind Speed': 9.22, 'Country': 'SA', 'Date': 1636170893}, {'City': 'temir', 'Lat': 49.1414, 'Lng': 57.13, 'Max Temp': 25.92, 'Humidity': 23, 'Cloudiness': 29, 'Wind Speed': 7.34, 'Country': 'KZ', 'Date': 1636170895}, {'City': 'scarborough', 'Lat': 54.2797, 'Lng': -0.4044, 'Max Temp': 51.08, 'Humidity': 88, 'Cloudiness': 100, 'Wind Speed': 4, 'Country': 'GB', 'Date': 1636170896}, {'City': 'liverpool', 'Lat': 53.4106, 'Lng': -2.9779, 'Max Temp': 51.66, 'Humidity': 89, 'Cloudiness': 75, 'Wind Speed': 1.99, 'Country': 'GB', 'Date': 1636170796}, {'City': 'pauini', 'Lat': -7.7136, 'Lng': -66.9764, 'Max Temp': 72.79, 'Humidity': 87, 'Cloudiness': 97, 'Wind Speed': 1.95, 'Country': 'BR', 'Date': 1636170898}, {'City': 'bilibino', 'Lat': 68.0546, 'Lng': 166.4372, 'Max Temp': -13.29, 'Humidity': 98, 'Cloudiness': 71, 'Wind Speed': 4.16, 'Country': 'RU', 'Date': 1636170899}, {'City': 'ulaanbaatar', 'Lat': 47.9077, 'Lng': 106.8832, 'Max Temp': 8.73, 'Humidity': 52, 'Cloudiness': 0, 'Wind Speed': 4.47, 'Country': 'MN', 'Date': 1636170851}, {'City': 'esperance', 'Lat': -33.8667, 'Lng': 121.9, 'Max Temp': 60.64, 'Humidity': 50, 'Cloudiness': 98, 'Wind Speed': 7.96, 'Country': 'AU', 'Date': 1636170901}, {'City': 'conceicao da barra', 'Lat': -18.5933, 'Lng': -39.7322, 'Max Temp': 71.82, 'Humidity': 87, 'Cloudiness': 92, 'Wind Speed': 5.66, 'Country': 'BR', 'Date': 1636170901}, {'City': 'kerouane', 'Lat': 9.2667, 'Lng': -9.0167, 'Max Temp': 71.58, 'Humidity': 79, 'Cloudiness': 98, 'Wind Speed': 1.99, 'Country': 'GN', 'Date': 1636170903}, {'City': 'lubango', 'Lat': -14.9172, 'Lng': 13.4925, 'Max Temp': 66.02, 'Humidity': 61, 'Cloudiness': 99, 'Wind Speed': 1.83, 'Country': 'AO', 'Date': 1636170904}, {'City': 'shunyi', 'Lat': 40.125, 'Lng': 116.6453, 'Max Temp': 54.95, 'Humidity': 100, 'Cloudiness': 90, 'Wind Speed': 4.47, 'Country': 'CN', 'Date': 1636170906}, {'City': 'iqaluit', 'Lat': 63.7506, 'Lng': -68.5145, 'Max Temp': 11.93, 'Humidity': 78, 'Cloudiness': 20, 'Wind Speed': 2.3, 'Country': 'CA', 'Date': 1636170906}, {'City': 'formosa', 'Lat': -26.1775, 'Lng': -58.1781, 'Max Temp': 66.18, 'Humidity': 94, 'Cloudiness': 75, 'Wind Speed': 5.75, 'Country': 'AR', 'Date': 1636170907}, {'City': 'flagstaff', 'Lat': 35.1981, 'Lng': -111.6513, 'Max Temp': 55.06, 'Humidity': 44, 'Cloudiness': 1, 'Wind Speed': 0, 'Country': 'US', 'Date': 1636170909}, {'City': 'coihaique', 'Lat': -45.5752, 'Lng': -72.0662, 'Max Temp': 40.95, 'Humidity': 93, 'Cloudiness': 0, 'Wind Speed': 2.3, 'Country': 'CL', 'Date': 1636170910}, {'City': 'pithiviers', 'Lat': 48.1667, 'Lng': 2.25, 'Max Temp': 36.99, 'Humidity': 89, 'Cloudiness': 13, 'Wind Speed': 5.26, 'Country': 'FR', 'Date': 1636170911}, {'City': 'zhangye', 'Lat': 38.9342, 'Lng': 100.4517, 'Max Temp': 19.72, 'Humidity': 61, 'Cloudiness': 100, 'Wind Speed': 13.58, 'Country': 'CN', 'Date': 1636170922}, {'City': 'krasnyy yar', 'Lat': 46.5331, 'Lng': 48.3456, 'Max Temp': 33.73, 'Humidity': 49, 'Cloudiness': 5, 'Wind Speed': 12.44, 'Country': 'RU', 'Date': 1636170922}, {'City': 'horodok', 'Lat': 49.1637, 'Lng': 26.5839, 'Max Temp': 45.52, 'Humidity': 69, 'Cloudiness': 100, 'Wind Speed': 7.74, 'Country': 'UA', 'Date': 1636170924}, {'City': 'la crosse', 'Lat': 43.8014, 'Lng': -91.2396, 'Max Temp': 49.93, 'Humidity': 60, 'Cloudiness': 1, 'Wind Speed': 5.01, 'Country': 'US', 'Date': 1636170772}, {'City': 'umkomaas', 'Lat': -30.2067, 'Lng': 30.7978, 'Max Temp': 72.68, 'Humidity': 77, 'Cloudiness': 98, 'Wind Speed': 9.62, 'Country': 'ZA', 'Date': 1636170926}, {'City': 'soroca', 'Lat': 48.1558, 'Lng': 28.2975, 'Max Temp': 47.41, 'Humidity': 64, 'Cloudiness': 91, 'Wind Speed': 10.13, 'Country': 'MD', 'Date': 1636170927}, {'City': 'port hedland', 'Lat': -20.3167, 'Lng': 118.5667, 'Max Temp': 89.65, 'Humidity': 55, 'Cloudiness': 3, 'Wind Speed': 19.57, 'Country': 'AU', 'Date': 1636170928}, {'City': 'payo', 'Lat': -3.7508, 'Lng': 103.6372, 'Max Temp': 80.4, 'Humidity': 81, 'Cloudiness': 98, 'Wind Speed': 0.43, 'Country': 'ID', 'Date': 1636170929}, {'City': 'oussouye', 'Lat': 12.485, 'Lng': -16.5469, 'Max Temp': 78.98, 'Humidity': 78, 'Cloudiness': 44, 'Wind Speed': 6.11, 'Country': 'SN', 'Date': 1636170929}, {'City': 'hami', 'Lat': 42.8, 'Lng': 93.45, 'Max Temp': 21.65, 'Humidity': 73, 'Cloudiness': 22, 'Wind Speed': 5.77, 'Country': 'CN', 'Date': 1636170931}, {'City': 'george town', 'Lat': 5.4112, 'Lng': 100.3354, 'Max Temp': 87.75, 'Humidity': 74, 'Cloudiness': 20, 'Wind Speed': 5.01, 'Country': 'MY', 'Date': 1636170639}, {'City': 'caravelas', 'Lat': -17.7125, 'Lng': -39.2481, 'Max Temp': 74.79, 'Humidity': 81, 'Cloudiness': 93, 'Wind Speed': 5.39, 'Country': 'BR', 'Date': 1636170932}, {'City': 'port shepstone', 'Lat': -30.7414, 'Lng': 30.455, 'Max Temp': 70.72, 'Humidity': 74, 'Cloudiness': 100, 'Wind Speed': 12.59, 'Country': 'ZA', 'Date': 1636170933}, {'City': 'saint-joseph', 'Lat': -21.3667, 'Lng': 55.6167, 'Max Temp': 80.47, 'Humidity': 68, 'Cloudiness': 0, 'Wind Speed': 7.29, 'Country': 'RE', 'Date': 1636170935}, {'City': 'rio verde de mato grosso', 'Lat': -18.9181, 'Lng': -54.8442, 'Max Temp': 72, 'Humidity': 93, 'Cloudiness': 100, 'Wind Speed': 3.69, 'Country': 'BR', 'Date': 1636170936}, {'City': 'casper', 'Lat': 42.8666, 'Lng': -106.3131, 'Max Temp': 49.5, 'Humidity': 49, 'Cloudiness': 40, 'Wind Speed': 3, 'Country': 'US', 'Date': 1636170938}, {'City': 'kharhial', 'Lat': 20.2833, 'Lng': 82.7667, 'Max Temp': 76.32, 'Humidity': 53, 'Cloudiness': 96, 'Wind Speed': 3.96, 'Country': 'IN', 'Date': 1636170939}, {'City': 'novorzhev', 'Lat': 57.0294, 'Lng': 29.3338, 'Max Temp': 43.63, 'Humidity': 74, 'Cloudiness': 97, 'Wind Speed': 12.97, 'Country': 'RU', 'Date': 1636170939}, {'City': 'wodonga', 'Lat': -36.1167, 'Lng': 146.8833, 'Max Temp': 78.06, 'Humidity': 57, 'Cloudiness': 40, 'Wind Speed': 7, 'Country': 'AU', 'Date': 1636170791}, {'City': 'drumheller', 'Lat': 51.4617, 'Lng': -112.7101, 'Max Temp': 46.27, 'Humidity': 55, 'Cloudiness': 22, 'Wind Speed': 4.61, 'Country': 'CA', 'Date': 1636170940}, {'City': 'coos bay', 'Lat': 43.3665, 'Lng': -124.2179, 'Max Temp': 51.93, 'Humidity': 97, 'Cloudiness': 40, 'Wind Speed': 9.22, 'Country': 'US', 'Date': 1636170866}, {'City': 'sinnamary', 'Lat': 5.3833, 'Lng': -52.95, 'Max Temp': 77.79, 'Humidity': 90, 'Cloudiness': 93, 'Wind Speed': 7.9, 'Country': 'GF', 'Date': 1636170941}, {'City': 'gobabis', 'Lat': -22.45, 'Lng': 18.9667, 'Max Temp': 66.54, 'Humidity': 21, 'Cloudiness': 52, 'Wind Speed': 1.72, 'Country': 'NA', 'Date': 1636170943}, {'City': 'rimbey', 'Lat': 52.6334, 'Lng': -114.2353, 'Max Temp': 43.72, 'Humidity': 70, 'Cloudiness': 30, 'Wind Speed': 6.73, 'Country': 'CA', 'Date': 1636170944}, {'City': 'wau', 'Lat': 7.7029, 'Lng': 27.9953, 'Max Temp': 73.27, 'Humidity': 77, 'Cloudiness': 45, 'Wind Speed': 4.07, 'Country': 'SS', 'Date': 1636170945}, {'City': 'kidal', 'Lat': 18.4411, 'Lng': 1.4078, 'Max Temp': 79.05, 'Humidity': 18, 'Cloudiness': 0, 'Wind Speed': 4.5, 'Country': 'ML', 'Date': 1636170675}, {'City': 'moctezuma', 'Lat': 29.8, 'Lng': -109.6667, 'Max Temp': 70.84, 'Humidity': 25, 'Cloudiness': 100, 'Wind Speed': 2.77, 'Country': 'MX', 'Date': 1636170947}, {'City': 'hasaki', 'Lat': 35.7333, 'Lng': 140.8333, 'Max Temp': 68.29, 'Humidity': 59, 'Cloudiness': 16, 'Wind Speed': 11.48, 'Country': 'JP', 'Date': 1636170948}, {'City': 'abu dhabi', 'Lat': 24.4667, 'Lng': 54.3667, 'Max Temp': 78.82, 'Humidity': 78, 'Cloudiness': 20, 'Wind Speed': 3.44, 'Country': 'AE', 'Date': 1636170948}, {'City': 'isla mujeres', 'Lat': 21.2311, 'Lng': -86.731, 'Max Temp': 71.17, 'Humidity': 66, 'Cloudiness': 65, 'Wind Speed': 13.49, 'Country': 'MX', 'Date': 1636170949}, {'City': 'qarqin', 'Lat': 37.4185, 'Lng': 66.0436, 'Max Temp': 36.55, 'Humidity': 23, 'Cloudiness': 2, 'Wind Speed': 8.93, 'Country': 'AF', 'Date': 1636170950}, {'City': 'le havre', 'Lat': 49.4938, 'Lng': 0.1077, 'Max Temp': 47.32, 'Humidity': 81, 'Cloudiness': 90, 'Wind Speed': 10.36, 'Country': 'FR', 'Date': 1636170950}, {'City': 'lebanon', 'Lat': 36.2081, 'Lng': -86.2911, 'Max Temp': 45.21, 'Humidity': 88, 'Cloudiness': 1, 'Wind Speed': 0, 'Country': 'US', 'Date': 1636170951}, {'City': 'srednekolymsk', 'Lat': 67.45, 'Lng': 153.6833, 'Max Temp': 6.22, 'Humidity': 86, 'Cloudiness': 100, 'Wind Speed': 4.41, 'Country': 'RU', 'Date': 1636170952}, {'City': 'biak', 'Lat': -0.9131, 'Lng': 122.8766, 'Max Temp': 82.72, 'Humidity': 72, 'Cloudiness': 84, 'Wind Speed': 0.51, 'Country': 'ID', 'Date': 1636170954}, {'City': 'ambilobe', 'Lat': -13.2, 'Lng': 49.05, 'Max Temp': 77.58, 'Humidity': 67, 'Cloudiness': 57, 'Wind Speed': 4.21, 'Country': 'MG', 'Date': 1636170954}, {'City': 'escuinapa', 'Lat': 22.85, 'Lng': -105.8, 'Max Temp': 73.98, 'Humidity': 82, 'Cloudiness': 24, 'Wind Speed': 3.02, 'Country': 'MX', 'Date': 1636170956}, {'City': 'saint-francois', 'Lat': 46.4154, 'Lng': 3.9054, 'Max Temp': 35.04, 'Humidity': 100, 'Cloudiness': 90, 'Wind Speed': 2.3, 'Country': 'FR', 'Date': 1636170956}, {'City': 'morondava', 'Lat': -20.2833, 'Lng': 44.2833, 'Max Temp': 76.48, 'Humidity': 62, 'Cloudiness': 0, 'Wind Speed': 6.55, 'Country': 'MG', 'Date': 1636170958}, {'City': 'derzhavinsk', 'Lat': 51.1, 'Lng': 66.3167, 'Max Temp': 26.73, 'Humidity': 25, 'Cloudiness': 46, 'Wind Speed': 13.85, 'Country': 'KZ', 'Date': 1636170959}, {'City': 'jhang', 'Lat': 33.6748, 'Lng': 72.6963, 'Max Temp': 62.62, 'Humidity': 37, 'Cloudiness': 5, 'Wind Speed': 8.01, 'Country': 'PK', 'Date': 1636170959}, {'City': 'mount gambier', 'Lat': -37.8333, 'Lng': 140.7667, 'Max Temp': 71.51, 'Humidity': 56, 'Cloudiness': 75, 'Wind Speed': 8.05, 'Country': 'AU', 'Date': 1636170960}, {'City': 'luderitz', 'Lat': -26.6481, 'Lng': 15.1594, 'Max Temp': 57.15, 'Humidity': 74, 'Cloudiness': 30, 'Wind Speed': 15.14, 'Country': 'NA', 'Date': 1636170961}, {'City': 'llata', 'Lat': -9.4167, 'Lng': -76.7833, 'Max Temp': 53.04, 'Humidity': 88, 'Cloudiness': 100, 'Wind Speed': 1.57, 'Country': 'PE', 'Date': 1636170962}, {'City': 'concordia', 'Lat': -31.393, 'Lng': -58.0209, 'Max Temp': 60.78, 'Humidity': 67, 'Cloudiness': 65, 'Wind Speed': 10, 'Country': 'AR', 'Date': 1636170964}, {'City': 'chengde', 'Lat': 40.9725, 'Lng': 117.9361, 'Max Temp': 42.33, 'Humidity': 83, 'Cloudiness': 100, 'Wind Speed': 7.56, 'Country': 'CN', 'Date': 1636170965}, {'City': 'pisco', 'Lat': -13.7, 'Lng': -76.2167, 'Max Temp': 62.65, 'Humidity': 82, 'Cloudiness': 0, 'Wind Speed': 6.91, 'Country': 'PE', 'Date': 1636170982}, {'City': 'fenoarivo', 'Lat': -18.933, 'Lng': 47.4354, 'Max Temp': 66.27, 'Humidity': 82, 'Cloudiness': 75, 'Wind Speed': 4.61, 'Country': 'MG', 'Date': 1636170983}, {'City': 'soligalich', 'Lat': 59.0778, 'Lng': 42.2864, 'Max Temp': 46.45, 'Humidity': 78, 'Cloudiness': 93, 'Wind Speed': 12.26, 'Country': 'RU', 'Date': 1636170985}, {'City': 'hovd', 'Lat': 48.0056, 'Lng': 91.6419, 'Max Temp': 18.66, 'Humidity': 22, 'Cloudiness': 35, 'Wind Speed': 2.28, 'Country': 'MN', 'Date': 1636170921}, {'City': 'yokadouma', 'Lat': 3.5167, 'Lng': 15.05, 'Max Temp': 68.72, 'Humidity': 98, 'Cloudiness': 98, 'Wind Speed': 1.21, 'Country': 'CM', 'Date': 1636170986}, {'City': 'parana', 'Lat': -31.732, 'Lng': -60.5238, 'Max Temp': 58.46, 'Humidity': 76, 'Cloudiness': 86, 'Wind Speed': 6.46, 'Country': 'AR', 'Date': 1636170988}, {'City': 'kuah', 'Lat': 6.3265, 'Lng': 99.8432, 'Max Temp': 86.02, 'Humidity': 84, 'Cloudiness': 20, 'Wind Speed': 4.61, 'Country': 'MY', 'Date': 1636170989}, {'City': 'east london', 'Lat': -33.0153, 'Lng': 27.9116, 'Max Temp': 65.34, 'Humidity': 82, 'Cloudiness': 40, 'Wind Speed': 4.61, 'Country': 'ZA', 'Date': 1636170989}, {'City': 'cap malheureux', 'Lat': -19.9842, 'Lng': 57.6142, 'Max Temp': 79.47, 'Humidity': 72, 'Cloudiness': 1, 'Wind Speed': 7, 'Country': 'MU', 'Date': 1636170991}, {'City': 'verkhoyansk', 'Lat': 67.5447, 'Lng': 133.385, 'Max Temp': 7.88, 'Humidity': 66, 'Cloudiness': 46, 'Wind Speed': 18.84, 'Country': 'RU', 'Date': 1636170992}, {'City': 'troyes', 'Lat': 48.3333, 'Lng': 4.0833, 'Max Temp': 41.22, 'Humidity': 93, 'Cloudiness': 90, 'Wind Speed': 3.44, 'Country': 'FR', 'Date': 1636170994}, {'City': 'pevek', 'Lat': 69.7008, 'Lng': 170.3133, 'Max Temp': -9.99, 'Humidity': 93, 'Cloudiness': 5, 'Wind Speed': 6.58, 'Country': 'RU', 'Date': 1636171001}, {'City': 'dickinson', 'Lat': 29.4608, 'Lng': -95.0513, 'Max Temp': 58.98, 'Humidity': 78, 'Cloudiness': 0, 'Wind Speed': 6.89, 'Country': 'US', 'Date': 1636171002}, {'City': 'longyearbyen', 'Lat': 78.2186, 'Lng': 15.6401, 'Max Temp': 19.24, 'Humidity': 63, 'Cloudiness': 20, 'Wind Speed': 13.8, 'Country': 'SJ', 'Date': 1636171004}, {'City': 'souillac', 'Lat': -20.5167, 'Lng': 57.5167, 'Max Temp': 79.36, 'Humidity': 78, 'Cloudiness': 40, 'Wind Speed': 6.91, 'Country': 'MU', 'Date': 1636171005}, {'City': 'sao paulo de olivenca', 'Lat': -3.3783, 'Lng': -68.8725, 'Max Temp': 73.98, 'Humidity': 96, 'Cloudiness': 94, 'Wind Speed': 1.54, 'Country': 'BR', 'Date': 1636171007}, {'City': 'yumen', 'Lat': 40.2833, 'Lng': 97.2, 'Max Temp': 17.13, 'Humidity': 39, 'Cloudiness': 26, 'Wind Speed': 30.89, 'Country': 'CN', 'Date': 1636171008}, {'City': 'le pradet', 'Lat': 43.1066, 'Lng': 6.0172, 'Max Temp': 53.64, 'Humidity': 49, 'Cloudiness': 0, 'Wind Speed': 8.05, 'Country': 'FR', 'Date': 1636171008}, {'City': 'lima', 'Lat': -12.0432, 'Lng': -77.0282, 'Max Temp': 63.9, 'Humidity': 80, 'Cloudiness': 0, 'Wind Speed': 8.05, 'Country': 'PE', 'Date': 1636171010}, {'City': 'byumba', 'Lat': -1.5763, 'Lng': 30.0675, 'Max Temp': 53.8, 'Humidity': 86, 'Cloudiness': 96, 'Wind Speed': 0.6, 'Country': 'RW', 'Date': 1636171011}, {'City': 'boffa', 'Lat': 10.1667, 'Lng': -14.0333, 'Max Temp': 73.51, 'Humidity': 88, 'Cloudiness': 4, 'Wind Speed': 2.17, 'Country': 'GN', 'Date': 1636171013}, {'City': 'glen allen', 'Lat': 37.666, 'Lng': -77.5064, 'Max Temp': 38.57, 'Humidity': 89, 'Cloudiness': 99, 'Wind Speed': 4.72, 'Country': 'US', 'Date': 1636171014}, {'City': 'ternate', 'Lat': 0.8, 'Lng': 127.4, 'Max Temp': 85.6, 'Humidity': 68, 'Cloudiness': 98, 'Wind Speed': 4.99, 'Country': 'ID', 'Date': 1636171015}, {'City': 'trat', 'Lat': 12.5, 'Lng': 102.5, 'Max Temp': 91.26, 'Humidity': 71, 'Cloudiness': 55, 'Wind Speed': 2.75, 'Country': 'TH', 'Date': 1636171015}, {'City': 'muros', 'Lat': 42.7762, 'Lng': -9.0603, 'Max Temp': 50.99, 'Humidity': 77, 'Cloudiness': 17, 'Wind Speed': 8.93, 'Country': 'ES', 'Date': 1636171015}, {'City': 'faanui', 'Lat': -16.4833, 'Lng': -151.75, 'Max Temp': 79.41, 'Humidity': 74, 'Cloudiness': 73, 'Wind Speed': 6.93, 'Country': 'PF', 'Date': 1636171017}, {'City': 'taltal', 'Lat': -25.4, 'Lng': -70.4833, 'Max Temp': 60.8, 'Humidity': 76, 'Cloudiness': 0, 'Wind Speed': 1.97, 'Country': 'CL', 'Date': 1636171018}, {'City': 'fairbanks', 'Lat': 64.8378, 'Lng': -147.7164, 'Max Temp': 23.59, 'Humidity': 88, 'Cloudiness': 90, 'Wind Speed': 0, 'Country': 'US', 'Date': 1636171020}, {'City': 'havoysund', 'Lat': 70.9963, 'Lng': 24.6622, 'Max Temp': 32.88, 'Humidity': 88, 'Cloudiness': 100, 'Wind Speed': 21.9, 'Country': 'NO', 'Date': 1636171021}, {'City': 'aykhal', 'Lat': 66, 'Lng': 111.5, 'Max Temp': 3.33, 'Humidity': 97, 'Cloudiness': 87, 'Wind Speed': 9.31, 'Country': 'RU', 'Date': 1636171022}, {'City': 'yanam', 'Lat': 16.7333, 'Lng': 82.2167, 'Max Temp': 79.2, 'Humidity': 69, 'Cloudiness': 92, 'Wind Speed': 9.44, 'Country': 'IN', 'Date': 1636171024}, {'City': 'marienburg', 'Lat': 54.0359, 'Lng': 19.0266, 'Max Temp': 49.05, 'Humidity': 73, 'Cloudiness': 100, 'Wind Speed': 16.46, 'Country': 'PL', 'Date': 1636171024}, {'City': 'sereflikochisar', 'Lat': 38.9393, 'Lng': 33.5386, 'Max Temp': 52.36, 'Humidity': 58, 'Cloudiness': 2, 'Wind Speed': 2.68, 'Country': 'TR', 'Date': 1636171025}, {'City': 'maniitsoq', 'Lat': 65.4167, 'Lng': -52.9, 'Max Temp': 23.59, 'Humidity': 56, 'Cloudiness': 97, 'Wind Speed': 10.6, 'Country': 'GL', 'Date': 1636171027}, {'City': 'shaoyang', 'Lat': 27.2315, 'Lng': 111.4525, 'Max Temp': 68.32, 'Humidity': 84, 'Cloudiness': 87, 'Wind Speed': 7.16, 'Country': 'CN', 'Date': 1636171028}, {'City': 'general roca', 'Lat': -39.0333, 'Lng': -67.5833, 'Max Temp': 63, 'Humidity': 26, 'Cloudiness': 59, 'Wind Speed': 8.86, 'Country': 'AR', 'Date': 1636171028}, {'City': 'goderich', 'Lat': 43.7501, 'Lng': -81.7165, 'Max Temp': 41.92, 'Humidity': 81, 'Cloudiness': 91, 'Wind Speed': 6.91, 'Country': 'CA', 'Date': 1636171030}, {'City': 'somerset east', 'Lat': -32.7217, 'Lng': 25.588, 'Max Temp': 55.51, 'Humidity': 94, 'Cloudiness': 100, 'Wind Speed': 8.05, 'Country': 'ZA', 'Date': 1636171031}, {'City': 'shakawe', 'Lat': -18.3667, 'Lng': 21.85, 'Max Temp': 75.27, 'Humidity': 55, 'Cloudiness': 98, 'Wind Speed': 4.05, 'Country': 'BW', 'Date': 1636171033}, {'City': 'haltern', 'Lat': 51.743, 'Lng': 7.1816, 'Max Temp': 45.1, 'Humidity': 94, 'Cloudiness': 100, 'Wind Speed': 8.99, 'Country': 'DE', 'Date': 1636171034}, {'City': 'anadyr', 'Lat': 64.75, 'Lng': 177.4833, 'Max Temp': -7.1, 'Humidity': 77, 'Cloudiness': 0, 'Wind Speed': 11.18, 'Country': 'RU', 'Date': 1636171035}, {'City': 'bilma', 'Lat': 18.6853, 'Lng': 12.9164, 'Max Temp': 76.3, 'Humidity': 16, 'Cloudiness': 85, 'Wind Speed': 6.15, 'Country': 'NE', 'Date': 1636171037}, {'City': 'mahajanga', 'Lat': -15.7167, 'Lng': 46.3167, 'Max Temp': 78.82, 'Humidity': 83, 'Cloudiness': 40, 'Wind Speed': 4.61, 'Country': 'MG', 'Date': 1636171039}, {'City': 'murovani kurylivtsi', 'Lat': 48.7235, 'Lng': 27.5189, 'Max Temp': 51.75, 'Humidity': 66, 'Cloudiness': 100, 'Wind Speed': 9.1, 'Country': 'UA', 'Date': 1636171040}, {'City': 'kieta', 'Lat': -6.2167, 'Lng': 155.6333, 'Max Temp': 85.1, 'Humidity': 55, 'Cloudiness': 40, 'Wind Speed': 5.01, 'Country': 'PG', 'Date': 1636171041}, {'City': 'semey', 'Lat': 50.4111, 'Lng': 80.2275, 'Max Temp': 17.82, 'Humidity': 73, 'Cloudiness': 0, 'Wind Speed': 17.9, 'Country': 'KZ', 'Date': 1636171043}, {'City': 'jamestown', 'Lat': 42.097, 'Lng': -79.2353, 'Max Temp': 36.72, 'Humidity': 92, 'Cloudiness': 2, 'Wind Speed': 4.83, 'Country': 'US', 'Date': 1636171043}]\n"
     ]
    }
   ],
   "source": [
    "print(city_data)"
   ]
  },
  {
   "cell_type": "markdown",
   "metadata": {},
   "source": [
    "### Convert Raw Data to DataFrame\n",
    "* Export the city data into a .csv.\n",
    "* Display the DataFrame"
   ]
  },
  {
   "cell_type": "code",
   "execution_count": 7,
   "metadata": {},
   "outputs": [
    {
     "data": {
      "text/plain": [
       "City          328\n",
       "Lat           328\n",
       "Lng           328\n",
       "Max Temp      328\n",
       "Humidity      328\n",
       "Cloudiness    328\n",
       "Wind Speed    328\n",
       "Country       328\n",
       "Date          328\n",
       "dtype: int64"
      ]
     },
     "execution_count": 7,
     "metadata": {},
     "output_type": "execute_result"
    }
   ],
   "source": [
    "# Display the count of cities with weather data\n",
    "city_data_pd=pd.DataFrame(city_data)\n",
    "city_data_pd.count()"
   ]
  },
  {
   "cell_type": "code",
   "execution_count": 9,
   "metadata": {},
   "outputs": [
    {
     "data": {
      "text/html": [
       "<div>\n",
       "<style scoped>\n",
       "    .dataframe tbody tr th:only-of-type {\n",
       "        vertical-align: middle;\n",
       "    }\n",
       "\n",
       "    .dataframe tbody tr th {\n",
       "        vertical-align: top;\n",
       "    }\n",
       "\n",
       "    .dataframe thead th {\n",
       "        text-align: right;\n",
       "    }\n",
       "</style>\n",
       "<table border=\"1\" class=\"dataframe\">\n",
       "  <thead>\n",
       "    <tr style=\"text-align: right;\">\n",
       "      <th></th>\n",
       "      <th>City</th>\n",
       "      <th>Lat</th>\n",
       "      <th>Lng</th>\n",
       "      <th>Max Temp</th>\n",
       "      <th>Humidity</th>\n",
       "      <th>Cloudiness</th>\n",
       "      <th>Wind Speed</th>\n",
       "      <th>Country</th>\n",
       "      <th>Date</th>\n",
       "    </tr>\n",
       "  </thead>\n",
       "  <tbody>\n",
       "    <tr>\n",
       "      <th>0</th>\n",
       "      <td>ushuaia</td>\n",
       "      <td>-54.8000</td>\n",
       "      <td>-68.3000</td>\n",
       "      <td>51.46</td>\n",
       "      <td>50</td>\n",
       "      <td>40</td>\n",
       "      <td>11.50</td>\n",
       "      <td>AR</td>\n",
       "      <td>1636170358</td>\n",
       "    </tr>\n",
       "    <tr>\n",
       "      <th>1</th>\n",
       "      <td>bengkulu</td>\n",
       "      <td>-3.8004</td>\n",
       "      <td>102.2655</td>\n",
       "      <td>79.27</td>\n",
       "      <td>80</td>\n",
       "      <td>100</td>\n",
       "      <td>7.78</td>\n",
       "      <td>ID</td>\n",
       "      <td>1636170351</td>\n",
       "    </tr>\n",
       "    <tr>\n",
       "      <th>2</th>\n",
       "      <td>manacapuru</td>\n",
       "      <td>-3.2997</td>\n",
       "      <td>-60.6206</td>\n",
       "      <td>79.38</td>\n",
       "      <td>75</td>\n",
       "      <td>41</td>\n",
       "      <td>1.99</td>\n",
       "      <td>BR</td>\n",
       "      <td>1636170622</td>\n",
       "    </tr>\n",
       "    <tr>\n",
       "      <th>3</th>\n",
       "      <td>hermanus</td>\n",
       "      <td>-34.4187</td>\n",
       "      <td>19.2345</td>\n",
       "      <td>55.90</td>\n",
       "      <td>76</td>\n",
       "      <td>17</td>\n",
       "      <td>4.68</td>\n",
       "      <td>ZA</td>\n",
       "      <td>1636170623</td>\n",
       "    </tr>\n",
       "    <tr>\n",
       "      <th>4</th>\n",
       "      <td>ribeira grande</td>\n",
       "      <td>38.5167</td>\n",
       "      <td>-28.7000</td>\n",
       "      <td>69.69</td>\n",
       "      <td>90</td>\n",
       "      <td>100</td>\n",
       "      <td>24.54</td>\n",
       "      <td>PT</td>\n",
       "      <td>1636170625</td>\n",
       "    </tr>\n",
       "    <tr>\n",
       "      <th>5</th>\n",
       "      <td>punta arenas</td>\n",
       "      <td>-53.1500</td>\n",
       "      <td>-70.9167</td>\n",
       "      <td>48.31</td>\n",
       "      <td>71</td>\n",
       "      <td>75</td>\n",
       "      <td>10.36</td>\n",
       "      <td>CL</td>\n",
       "      <td>1636170445</td>\n",
       "    </tr>\n",
       "    <tr>\n",
       "      <th>6</th>\n",
       "      <td>nikolskoye</td>\n",
       "      <td>59.7035</td>\n",
       "      <td>30.7861</td>\n",
       "      <td>43.88</td>\n",
       "      <td>85</td>\n",
       "      <td>100</td>\n",
       "      <td>10.56</td>\n",
       "      <td>RU</td>\n",
       "      <td>1636170627</td>\n",
       "    </tr>\n",
       "    <tr>\n",
       "      <th>7</th>\n",
       "      <td>rocha</td>\n",
       "      <td>-34.4833</td>\n",
       "      <td>-54.3333</td>\n",
       "      <td>58.05</td>\n",
       "      <td>77</td>\n",
       "      <td>100</td>\n",
       "      <td>14.76</td>\n",
       "      <td>UY</td>\n",
       "      <td>1636170628</td>\n",
       "    </tr>\n",
       "    <tr>\n",
       "      <th>8</th>\n",
       "      <td>airai</td>\n",
       "      <td>-8.9266</td>\n",
       "      <td>125.4092</td>\n",
       "      <td>80.10</td>\n",
       "      <td>45</td>\n",
       "      <td>72</td>\n",
       "      <td>3.00</td>\n",
       "      <td>TL</td>\n",
       "      <td>1636170630</td>\n",
       "    </tr>\n",
       "    <tr>\n",
       "      <th>9</th>\n",
       "      <td>gornopravdinsk</td>\n",
       "      <td>60.0500</td>\n",
       "      <td>69.9000</td>\n",
       "      <td>33.62</td>\n",
       "      <td>98</td>\n",
       "      <td>100</td>\n",
       "      <td>8.55</td>\n",
       "      <td>RU</td>\n",
       "      <td>1636170630</td>\n",
       "    </tr>\n",
       "  </tbody>\n",
       "</table>\n",
       "</div>"
      ],
      "text/plain": [
       "             City      Lat       Lng  Max Temp  Humidity  Cloudiness  \\\n",
       "0         ushuaia -54.8000  -68.3000     51.46        50          40   \n",
       "1        bengkulu  -3.8004  102.2655     79.27        80         100   \n",
       "2      manacapuru  -3.2997  -60.6206     79.38        75          41   \n",
       "3        hermanus -34.4187   19.2345     55.90        76          17   \n",
       "4  ribeira grande  38.5167  -28.7000     69.69        90         100   \n",
       "5    punta arenas -53.1500  -70.9167     48.31        71          75   \n",
       "6      nikolskoye  59.7035   30.7861     43.88        85         100   \n",
       "7           rocha -34.4833  -54.3333     58.05        77         100   \n",
       "8           airai  -8.9266  125.4092     80.10        45          72   \n",
       "9  gornopravdinsk  60.0500   69.9000     33.62        98         100   \n",
       "\n",
       "   Wind Speed Country        Date  \n",
       "0       11.50      AR  1636170358  \n",
       "1        7.78      ID  1636170351  \n",
       "2        1.99      BR  1636170622  \n",
       "3        4.68      ZA  1636170623  \n",
       "4       24.54      PT  1636170625  \n",
       "5       10.36      CL  1636170445  \n",
       "6       10.56      RU  1636170627  \n",
       "7       14.76      UY  1636170628  \n",
       "8        3.00      TL  1636170630  \n",
       "9        8.55      RU  1636170630  "
      ]
     },
     "execution_count": 9,
     "metadata": {},
     "output_type": "execute_result"
    }
   ],
   "source": [
    "# save to csv file\n",
    "city_data_pd.to_csv(\"output_data_file\", encoding='utf-8', index=False)\n",
    "\n",
    "# Display the city weather data frame\n",
    "city_data_pd.head(10)"
   ]
  },
  {
   "cell_type": "markdown",
   "metadata": {},
   "source": [
    "## Inspect the data and remove the cities where the humidity > 100%.\n",
    "----\n",
    "Skip this step if there are no cities that have humidity > 100%. "
   ]
  },
  {
   "cell_type": "code",
   "execution_count": null,
   "metadata": {},
   "outputs": [],
   "source": []
  },
  {
   "cell_type": "code",
   "execution_count": null,
   "metadata": {},
   "outputs": [],
   "source": [
    "#  Get the indices of cities that have humidity over 100%.\n"
   ]
  },
  {
   "cell_type": "code",
   "execution_count": null,
   "metadata": {},
   "outputs": [],
   "source": [
    "# Make a new DataFrame equal to the city data to drop all humidity outliers by index.\n",
    "# Passing \"inplace=False\" will make a copy of the city_data DataFrame, which we call \"clean_city_data\".\n"
   ]
  },
  {
   "cell_type": "code",
   "execution_count": null,
   "metadata": {},
   "outputs": [],
   "source": [
    "\n"
   ]
  },
  {
   "cell_type": "markdown",
   "metadata": {},
   "source": [
    "## Plotting the Data\n",
    "* Use proper labeling of the plots using plot titles (including date of analysis) and axes labels.\n",
    "* Save the plotted figures as .pngs."
   ]
  },
  {
   "cell_type": "markdown",
   "metadata": {},
   "source": [
    "## Latitude vs. Temperature Plot"
   ]
  },
  {
   "cell_type": "code",
   "execution_count": 10,
   "metadata": {
    "scrolled": true
   },
   "outputs": [
    {
     "data": {
      "image/png": "[encoded data removed]",
      "text/plain": [
       "<Figure size 720x576 with 1 Axes>"
      ]
     },
     "metadata": {
      "needs_background": "light"
     },
     "output_type": "display_data"
    }
   ],
   "source": [
    "plt.figure(figsize=(10,8))\n",
    "#sns.set()\n",
    "plt.scatter(city_data_pd[\"Lat\"], city_data_pd[\"Max Temp\"], color='r', alpha=0.5)\n",
    "plt.xlabel('Latitude')\n",
    "plt.ylabel('Max Temperature (F)')\n",
    "plt.title(f'City Latitude vs Max Temperature ({time.strftime(\"%x\")})')\n",
    "plt.savefig(\"LatVsTemp.png\")\n",
    "plt.show()"
   ]
  },
  {
   "cell_type": "markdown",
   "metadata": {},
   "source": [
    "## Latitude vs. Humidity Plot"
   ]
  },
  {
   "cell_type": "code",
   "execution_count": 11,
   "metadata": {
    "scrolled": true
   },
   "outputs": [
    {
     "data": {
      "image/png": "[encoded data removed]",
      "text/plain": [
       "<Figure size 720x576 with 1 Axes>"
      ]
     },
     "metadata": {
      "needs_background": "light"
     },
     "output_type": "display_data"
    }
   ],
   "source": [
    "plt.figure(figsize=(10,8))\n",
    "#sns.set()\n",
    "plt.scatter(city_data_pd[\"Lat\"], city_data_pd[\"Humidity\"], color='r', alpha=0.5)\n",
    "plt.xlabel('Latitude')\n",
    "plt.ylabel('Humidity')\n",
    "plt.title(f'City Latitude vs Humidity ({time.strftime(\"%x\")})')\n",
    "plt.savefig(\"LatVsHumidity.png\")\n",
    "plt.show()"
   ]
  },
  {
   "cell_type": "markdown",
   "metadata": {},
   "source": [
    "## Latitude vs. Cloudiness Plot"
   ]
  },
  {
   "cell_type": "code",
   "execution_count": 12,
   "metadata": {},
   "outputs": [
    {
     "data": {
      "image/png": "[encoded data removed]",
      "text/plain": [
       "<Figure size 720x576 with 1 Axes>"
      ]
     },
     "metadata": {
      "needs_background": "light"
     },
     "output_type": "display_data"
    }
   ],
   "source": [
    "plt.figure(figsize=(10,8))\n",
    "#sns.set()\n",
    "plt.scatter(city_data_pd[\"Lat\"], city_data_pd[\"Cloudiness\"], color='r', alpha=0.5)\n",
    "plt.xlabel('Latitude')\n",
    "plt.ylabel('Cloudiness')\n",
    "plt.title(f'City Latitude vs Cloudiness ({time.strftime(\"%x\")})')\n",
    "plt.savefig(\"LatVsCloud.png\")\n",
    "plt.show()"
   ]
  },
  {
   "cell_type": "markdown",
   "metadata": {},
   "source": [
    "## Latitude vs. Wind Speed Plot"
   ]
  },
  {
   "cell_type": "code",
   "execution_count": 13,
   "metadata": {},
   "outputs": [
    {
     "data": {
      "image/png": "[encoded data removed]",
      "text/plain": [
       "<Figure size 720x576 with 1 Axes>"
      ]
     },
     "metadata": {
      "needs_background": "light"
     },
     "output_type": "display_data"
    }
   ],
   "source": [
    "plt.figure(figsize=(10,8))\n",
    "#sns.set()\n",
    "plt.scatter(city_data_pd[\"Lat\"], city_data_pd[\"Wind Speed\"], color='r', alpha=0.5)\n",
    "plt.xlabel('Latitude')\n",
    "plt.ylabel('Wind Speed')\n",
    "plt.title(f'City Latitude vs Wind Speed ({time.strftime(\"%x\")})')\n",
    "plt.savefig(\"LatVsWind Speed.png\")\n",
    "plt.show()\n"
   ]
  },
  {
   "cell_type": "markdown",
   "metadata": {},
   "source": [
    "## Linear Regression"
   ]
  },
  {
   "cell_type": "code",
   "execution_count": 14,
   "metadata": {},
   "outputs": [],
   "source": [
    "#nothern = cities.loc[cities[\"Lat\"] >= 0.0]\n",
    "\n",
    "\n",
    "\n",
    "\n",
    "#southern = cities.loc[cities[\"Lat\"] <\n",
    "\n",
    "nothern = city_data_pd.loc[(city_data_pd[\"Lat\"] >= 0.0)]\n",
    "#nothern.reset_index(inplace=True)\n",
    "southern = city_data_pd.loc[(city_data_pd[\"Lat\"] <0)]"
   ]
  },
  {
   "cell_type": "code",
   "execution_count": 16,
   "metadata": {},
   "outputs": [],
   "source": [
    "# Define plotting function\n",
    "\n",
    "def plotLinearRegression(xdata,ydata,xlbl,ylbl,lblpos,ifig):\n",
    "    (slope, intercept, rvalue, pvalue, stderr) = linregress(xdata, ydata)\n",
    "    print(f\"The r-squared is: {rvalue}\")\n",
    "    regress_values = xdata * slope + intercept\n",
    "    line_eq = \"y = \" + str(round(slope,2)) + \"x + \" + str(round(intercept,2))\n",
    "\n",
    "    plt.scatter(xdata,ydata)\n",
    "    plt.plot(xdata,regress_values,\"r-\")\n",
    "    plt.annotate(line_eq,lblpos,fontsize=15,color=\"red\")\n",
    "    plt.xlabel(xlbl)\n",
    "    plt.ylabel(ylbl)\n",
    "    plt.savefig(f\"output_data/fig{ifig}.png\")\n",
    "    plt.show()"
   ]
  },
  {
   "cell_type": "markdown",
   "metadata": {},
   "source": [
    "####  Northern Hemisphere - Max Temp vs. Latitude Linear Regression"
   ]
  },
  {
   "cell_type": "code",
   "execution_count": null,
   "metadata": {},
   "outputs": [],
   "source": [
    "# Northern Hemisphere - Max Temp vs. Latitude Linear Regression\n",
    "\n",
    "xlbl = \"Lat\"\n",
    "ylbl = \"Max Temp\"\n",
    "lblpos = (0,25)\n",
    "plotLinearRegression(nothern[xlbl],nothern[ylbl],xlbl,ylbl,lblpos,5)"
   ]
  },
  {
   "cell_type": "markdown",
   "metadata": {},
   "source": [
    "####  Southern Hemisphere - Max Temp vs. Latitude Linear Regression"
   ]
  },
  {
   "cell_type": "code",
   "execution_count": null,
   "metadata": {},
   "outputs": [],
   "source": [
    "# Southern Hemisphere - Max Temp vs. Latitude Linear Regression\n",
    "\n",
    "xlbl = \"Lat\"\n",
    "ylbl = \"Max Temp\"\n",
    "lblpos = (-55,90)\n",
    "plotLinearRegression(southern[xlbl],southern[ylbl],xlbl,ylbl,lblpos,6)"
   ]
  },
  {
   "cell_type": "markdown",
   "metadata": {},
   "source": [
    "####  Northern Hemisphere - Humidity (%) vs. Latitude Linear Regression"
   ]
  },
  {
   "cell_type": "code",
   "execution_count": null,
   "metadata": {},
   "outputs": [],
   "source": [
    "# Northern Hemisphere - Humidity (%) vs. Latitude Linear Regression\n",
    "xlbl = \"Lat\"\n",
    "ylbl = \"Humidity\"\n",
    "lblpos = (45,10)\n",
    "plotLinearRegression(nothern[xlbl],nothern[ylbl],xlbl,ylbl,lblpos,7)"
   ]
  },
  {
   "cell_type": "markdown",
   "metadata": {},
   "source": [
    "####  Southern Hemisphere - Humidity (%) vs. Latitude Linear Regression"
   ]
  },
  {
   "cell_type": "code",
   "execution_count": null,
   "metadata": {},
   "outputs": [],
   "source": [
    "# Southern Hemisphere - Humidity (%) vs. Latitude Linear Regression\n",
    "xlbl = \"Lat\"\n",
    "ylbl = \"Humidity\"\n",
    "lblpos = (-55,15)\n",
    "plotLinearRegression(southern[xlbl],southern[ylbl],xlbl,ylbl,lblpos,8)"
   ]
  },
  {
   "cell_type": "markdown",
   "metadata": {},
   "source": [
    "####  Northern Hemisphere - Cloudiness (%) vs. Latitude Linear Regression"
   ]
  },
  {
   "cell_type": "code",
   "execution_count": null,
   "metadata": {},
   "outputs": [],
   "source": [
    "# Northern Hemisphere - Cloudiness (%) vs. Latitude Linear Regression\n",
    "xlbl = \"Lat\"\n",
    "ylbl = \"Cloudiness\"\n",
    "lblpos = (20,40)\n",
    "plotLinearRegression(nothern[xlbl],nothern[ylbl],xlbl,ylbl,lblpos,9)"
   ]
  },
  {
   "cell_type": "markdown",
   "metadata": {},
   "source": [
    "####  Southern Hemisphere - Cloudiness (%) vs. Latitude Linear Regression"
   ]
  },
  {
   "cell_type": "code",
   "execution_count": null,
   "metadata": {},
   "outputs": [],
   "source": [
    "# Sourhern Hemisphere - Cloudiness (%) vs. Latitude Linear Regression\n",
    "xlbl = \"Lat\"\n",
    "ylbl = \"Cloudiness\"\n",
    "lblpos = (-55,50)\n",
    "plotLinearRegression(southern[xlbl],southern[ylbl],xlbl,ylbl,lblpos,10)"
   ]
  },
  {
   "cell_type": "markdown",
   "metadata": {},
   "source": [
    "####  Northern Hemisphere - Wind Speed (mph) vs. Latitude Linear Regression"
   ]
  },
  {
   "cell_type": "code",
   "execution_count": null,
   "metadata": {},
   "outputs": [],
   "source": [
    "# Northern Hemisphere - Wind Speed (mph) vs. Latitude Linear Regression\n",
    "\n",
    "xlbl = \"Lat\"\n",
    "ylbl = \"Wind Speed\"\n",
    "lblpos = (0,30)\n",
    "plotLinearRegression(nothern[xlbl],nothern[ylbl],xlbl,ylbl,lblpos,11)"
   ]
  },
  {
   "cell_type": "markdown",
   "metadata": {},
   "source": [
    "####  Southern Hemisphere - Wind Speed (mph) vs. Latitude Linear Regression"
   ]
  },
  {
   "cell_type": "code",
   "execution_count": null,
   "metadata": {},
   "outputs": [],
   "source": [
    "# Southern Hemisphere - Wind Speed (mph) vs. Latitude Linear Regression\n",
    "xlbl = \"Lat\"\n",
    "ylbl = \"Wind Speed\"\n",
    "lblpos = (-25,33)\n",
    "plotLinearRegression(southern[xlbl],southern[ylbl],xlbl,ylbl,lblpos,12)"
   ]
  },
  {
   "cell_type": "code",
   "execution_count": null,
   "metadata": {},
   "outputs": [],
   "source": []
  }
 ],
 "metadata": {
  "anaconda-cloud": {},
  "kernel_info": {
   "name": "python3"
  },
  "kernelspec": {
   "display_name": "Python [conda env:PythonData] *",
   "language": "python",
   "name": "conda-env-PythonData-py"
  },
  "language_info": {
   "codemirror_mode": {
    "name": "ipython",
    "version": 3
   },
   "file_extension": ".py",
   "mimetype": "text/x-python",
   "name": "python",
   "nbconvert_exporter": "python",
   "pygments_lexer": "ipython3",
   "version": "3.7.11"
  },
  "latex_envs": {
   "LaTeX_envs_menu_present": true,
   "autoclose": false,
   "autocomplete": true,
   "bibliofile": "biblio.bib",
   "cite_by": "apalike",
   "current_citInitial": 1,
   "eqLabelWithNumbers": true,
   "eqNumInitial": 1,
   "hotkeys": {
    "equation": "Ctrl-E",
    "itemize": "Ctrl-I"
   },
   "labels_anchors": false,
   "latex_user_defs": false,
   "report_style_numbering": false,
   "user_envs_cfg": false
  },
  "nteract": {
   "version": "0.12.3"
  }
 },
 "nbformat": 4,
 "nbformat_minor": 2
}
